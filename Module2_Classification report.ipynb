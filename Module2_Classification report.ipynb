{
 "cells": [
  {
   "cell_type": "markdown",
   "metadata": {},
   "source": [
    "# Classification Module"
   ]
  },
  {
   "cell_type": "code",
   "execution_count": 1,
   "metadata": {},
   "outputs": [],
   "source": [
    "import pandas as pd\n",
    "import numpy as np\n",
    "import matplotlib.pyplot as plt\n",
    "import sklearn.metrics"
   ]
  },
  {
   "cell_type": "code",
   "execution_count": 2,
   "metadata": {},
   "outputs": [
    {
     "name": "stderr",
     "output_type": "stream",
     "text": [
      "C:\\Users\\charu\\anaconda3\\lib\\site-packages\\numpy\\lib\\arraysetops.py:569: FutureWarning: elementwise comparison failed; returning scalar instead, but in the future will perform elementwise comparison\n",
      "  mask |= (ar1 == a)\n"
     ]
    },
    {
     "data": {
      "text/html": [
       "<div>\n",
       "<style scoped>\n",
       "    .dataframe tbody tr th:only-of-type {\n",
       "        vertical-align: middle;\n",
       "    }\n",
       "\n",
       "    .dataframe tbody tr th {\n",
       "        vertical-align: top;\n",
       "    }\n",
       "\n",
       "    .dataframe thead th {\n",
       "        text-align: right;\n",
       "    }\n",
       "</style>\n",
       "<table border=\"1\" class=\"dataframe\">\n",
       "  <thead>\n",
       "    <tr style=\"text-align: right;\">\n",
       "      <th></th>\n",
       "      <th>Unnamed: 0_x</th>\n",
       "      <th>ArrDel15</th>\n",
       "      <th>ArrDelayMinutes</th>\n",
       "      <th>ArrTime</th>\n",
       "      <th>CRSArrTime</th>\n",
       "      <th>CRSDepTime</th>\n",
       "      <th>DayofMonth</th>\n",
       "      <th>DepDel15</th>\n",
       "      <th>DepDelayMinutes</th>\n",
       "      <th>DepTime</th>\n",
       "      <th>...</th>\n",
       "      <th>pressure</th>\n",
       "      <th>cloudcover</th>\n",
       "      <th>DewPointF</th>\n",
       "      <th>WindGustKmph</th>\n",
       "      <th>tempF</th>\n",
       "      <th>WindChillF</th>\n",
       "      <th>humidity</th>\n",
       "      <th>time</th>\n",
       "      <th>date</th>\n",
       "      <th>airport</th>\n",
       "    </tr>\n",
       "  </thead>\n",
       "  <tbody>\n",
       "    <tr>\n",
       "      <th>0</th>\n",
       "      <td>0</td>\n",
       "      <td>0.0</td>\n",
       "      <td>8.0</td>\n",
       "      <td>1610.0</td>\n",
       "      <td>1602</td>\n",
       "      <td>745</td>\n",
       "      <td>1</td>\n",
       "      <td>0.0</td>\n",
       "      <td>0.0</td>\n",
       "      <td>741.0</td>\n",
       "      <td>...</td>\n",
       "      <td>1030</td>\n",
       "      <td>0</td>\n",
       "      <td>23</td>\n",
       "      <td>8</td>\n",
       "      <td>34</td>\n",
       "      <td>29</td>\n",
       "      <td>65</td>\n",
       "      <td>800</td>\n",
       "      <td>2016-01-01</td>\n",
       "      <td>SEA</td>\n",
       "    </tr>\n",
       "    <tr>\n",
       "      <th>1</th>\n",
       "      <td>12938</td>\n",
       "      <td>1.0</td>\n",
       "      <td>33.0</td>\n",
       "      <td>1237.0</td>\n",
       "      <td>1204</td>\n",
       "      <td>820</td>\n",
       "      <td>1</td>\n",
       "      <td>0.0</td>\n",
       "      <td>1.0</td>\n",
       "      <td>821.0</td>\n",
       "      <td>...</td>\n",
       "      <td>1030</td>\n",
       "      <td>0</td>\n",
       "      <td>23</td>\n",
       "      <td>8</td>\n",
       "      <td>34</td>\n",
       "      <td>29</td>\n",
       "      <td>65</td>\n",
       "      <td>800</td>\n",
       "      <td>2016-01-01</td>\n",
       "      <td>SEA</td>\n",
       "    </tr>\n",
       "    <tr>\n",
       "      <th>2</th>\n",
       "      <td>52237</td>\n",
       "      <td>0.0</td>\n",
       "      <td>0.0</td>\n",
       "      <td>1138.0</td>\n",
       "      <td>1143</td>\n",
       "      <td>759</td>\n",
       "      <td>1</td>\n",
       "      <td>0.0</td>\n",
       "      <td>0.0</td>\n",
       "      <td>754.0</td>\n",
       "      <td>...</td>\n",
       "      <td>1030</td>\n",
       "      <td>0</td>\n",
       "      <td>23</td>\n",
       "      <td>8</td>\n",
       "      <td>34</td>\n",
       "      <td>29</td>\n",
       "      <td>65</td>\n",
       "      <td>800</td>\n",
       "      <td>2016-01-01</td>\n",
       "      <td>SEA</td>\n",
       "    </tr>\n",
       "    <tr>\n",
       "      <th>3</th>\n",
       "      <td>52492</td>\n",
       "      <td>0.0</td>\n",
       "      <td>10.0</td>\n",
       "      <td>1401.0</td>\n",
       "      <td>1351</td>\n",
       "      <td>738</td>\n",
       "      <td>1</td>\n",
       "      <td>0.0</td>\n",
       "      <td>2.0</td>\n",
       "      <td>740.0</td>\n",
       "      <td>...</td>\n",
       "      <td>1030</td>\n",
       "      <td>0</td>\n",
       "      <td>23</td>\n",
       "      <td>8</td>\n",
       "      <td>34</td>\n",
       "      <td>29</td>\n",
       "      <td>65</td>\n",
       "      <td>800</td>\n",
       "      <td>2016-01-01</td>\n",
       "      <td>SEA</td>\n",
       "    </tr>\n",
       "    <tr>\n",
       "      <th>4</th>\n",
       "      <td>62876</td>\n",
       "      <td>0.0</td>\n",
       "      <td>0.0</td>\n",
       "      <td>1524.0</td>\n",
       "      <td>1527</td>\n",
       "      <td>745</td>\n",
       "      <td>1</td>\n",
       "      <td>0.0</td>\n",
       "      <td>0.0</td>\n",
       "      <td>742.0</td>\n",
       "      <td>...</td>\n",
       "      <td>1030</td>\n",
       "      <td>0</td>\n",
       "      <td>23</td>\n",
       "      <td>8</td>\n",
       "      <td>34</td>\n",
       "      <td>29</td>\n",
       "      <td>65</td>\n",
       "      <td>800</td>\n",
       "      <td>2016-01-01</td>\n",
       "      <td>SEA</td>\n",
       "    </tr>\n",
       "  </tbody>\n",
       "</table>\n",
       "<p>5 rows × 34 columns</p>\n",
       "</div>"
      ],
      "text/plain": [
       "   Unnamed: 0_x  ArrDel15  ArrDelayMinutes  ArrTime  CRSArrTime  CRSDepTime  \\\n",
       "0             0       0.0              8.0   1610.0        1602         745   \n",
       "1         12938       1.0             33.0   1237.0        1204         820   \n",
       "2         52237       0.0              0.0   1138.0        1143         759   \n",
       "3         52492       0.0             10.0   1401.0        1351         738   \n",
       "4         62876       0.0              0.0   1524.0        1527         745   \n",
       "\n",
       "   DayofMonth  DepDel15  DepDelayMinutes  DepTime  ...  pressure cloudcover  \\\n",
       "0           1       0.0              0.0    741.0  ...      1030          0   \n",
       "1           1       0.0              1.0    821.0  ...      1030          0   \n",
       "2           1       0.0              0.0    754.0  ...      1030          0   \n",
       "3           1       0.0              2.0    740.0  ...      1030          0   \n",
       "4           1       0.0              0.0    742.0  ...      1030          0   \n",
       "\n",
       "   DewPointF WindGustKmph  tempF  WindChillF  humidity  time        date  \\\n",
       "0         23            8     34          29        65   800  2016-01-01   \n",
       "1         23            8     34          29        65   800  2016-01-01   \n",
       "2         23            8     34          29        65   800  2016-01-01   \n",
       "3         23            8     34          29        65   800  2016-01-01   \n",
       "4         23            8     34          29        65   800  2016-01-01   \n",
       "\n",
       "   airport  \n",
       "0      SEA  \n",
       "1      SEA  \n",
       "2      SEA  \n",
       "3      SEA  \n",
       "4      SEA  \n",
       "\n",
       "[5 rows x 34 columns]"
      ]
     },
     "execution_count": 2,
     "metadata": {},
     "output_type": "execute_result"
    }
   ],
   "source": [
    "# Loading Data\n",
    "df = pd.read_csv(\"Data/Final_data.csv\", index_col = 0)\n",
    "df.head()"
   ]
  },
  {
   "cell_type": "code",
   "execution_count": 3,
   "metadata": {},
   "outputs": [
    {
     "data": {
      "text/plain": [
       "Index(['Unnamed: 0_x', 'ArrDel15', 'ArrDelayMinutes', 'ArrTime', 'CRSArrTime',\n",
       "       'CRSDepTime', 'DayofMonth', 'DepDel15', 'DepDelayMinutes', 'DepTime',\n",
       "       'DestAirportID', 'FlightDate', 'Month', 'Origin', 'OriginAirportID',\n",
       "       'Quarter', 'Year', 'Time_new', 'Unnamed: 0_y', 'windspeedKmph',\n",
       "       'winddirDegree', 'weatherCode', 'precipMM', 'visibility', 'pressure',\n",
       "       'cloudcover', 'DewPointF', 'WindGustKmph', 'tempF', 'WindChillF',\n",
       "       'humidity', 'time', 'date', 'airport'],\n",
       "      dtype='object')"
      ]
     },
     "execution_count": 3,
     "metadata": {},
     "output_type": "execute_result"
    }
   ],
   "source": [
    "df.columns"
   ]
  },
  {
   "cell_type": "code",
   "execution_count": 4,
   "metadata": {},
   "outputs": [
    {
     "data": {
      "text/html": [
       "<div>\n",
       "<style scoped>\n",
       "    .dataframe tbody tr th:only-of-type {\n",
       "        vertical-align: middle;\n",
       "    }\n",
       "\n",
       "    .dataframe tbody tr th {\n",
       "        vertical-align: top;\n",
       "    }\n",
       "\n",
       "    .dataframe thead th {\n",
       "        text-align: right;\n",
       "    }\n",
       "</style>\n",
       "<table border=\"1\" class=\"dataframe\">\n",
       "  <thead>\n",
       "    <tr style=\"text-align: right;\">\n",
       "      <th></th>\n",
       "      <th>ArrDel15</th>\n",
       "      <th>CRSArrTime</th>\n",
       "      <th>CRSDepTime</th>\n",
       "      <th>DayofMonth</th>\n",
       "      <th>DepDel15</th>\n",
       "      <th>DepDelayMinutes</th>\n",
       "      <th>DepTime</th>\n",
       "      <th>DestAirportID</th>\n",
       "      <th>Month</th>\n",
       "      <th>OriginAirportID</th>\n",
       "      <th>...</th>\n",
       "      <th>precipMM</th>\n",
       "      <th>visibility</th>\n",
       "      <th>pressure</th>\n",
       "      <th>cloudcover</th>\n",
       "      <th>DewPointF</th>\n",
       "      <th>WindGustKmph</th>\n",
       "      <th>tempF</th>\n",
       "      <th>WindChillF</th>\n",
       "      <th>humidity</th>\n",
       "      <th>airport</th>\n",
       "    </tr>\n",
       "  </thead>\n",
       "  <tbody>\n",
       "    <tr>\n",
       "      <th>0</th>\n",
       "      <td>0.0</td>\n",
       "      <td>1602</td>\n",
       "      <td>745</td>\n",
       "      <td>1</td>\n",
       "      <td>0.0</td>\n",
       "      <td>0.0</td>\n",
       "      <td>741.0</td>\n",
       "      <td>12478</td>\n",
       "      <td>1</td>\n",
       "      <td>14747</td>\n",
       "      <td>...</td>\n",
       "      <td>0.0</td>\n",
       "      <td>10</td>\n",
       "      <td>1030</td>\n",
       "      <td>0</td>\n",
       "      <td>23</td>\n",
       "      <td>8</td>\n",
       "      <td>34</td>\n",
       "      <td>29</td>\n",
       "      <td>65</td>\n",
       "      <td>SEA</td>\n",
       "    </tr>\n",
       "    <tr>\n",
       "      <th>1</th>\n",
       "      <td>1.0</td>\n",
       "      <td>1204</td>\n",
       "      <td>820</td>\n",
       "      <td>1</td>\n",
       "      <td>0.0</td>\n",
       "      <td>1.0</td>\n",
       "      <td>821.0</td>\n",
       "      <td>14107</td>\n",
       "      <td>1</td>\n",
       "      <td>14747</td>\n",
       "      <td>...</td>\n",
       "      <td>0.0</td>\n",
       "      <td>10</td>\n",
       "      <td>1030</td>\n",
       "      <td>0</td>\n",
       "      <td>23</td>\n",
       "      <td>8</td>\n",
       "      <td>34</td>\n",
       "      <td>29</td>\n",
       "      <td>65</td>\n",
       "      <td>SEA</td>\n",
       "    </tr>\n",
       "    <tr>\n",
       "      <th>2</th>\n",
       "      <td>0.0</td>\n",
       "      <td>1143</td>\n",
       "      <td>759</td>\n",
       "      <td>1</td>\n",
       "      <td>0.0</td>\n",
       "      <td>0.0</td>\n",
       "      <td>754.0</td>\n",
       "      <td>11292</td>\n",
       "      <td>1</td>\n",
       "      <td>14747</td>\n",
       "      <td>...</td>\n",
       "      <td>0.0</td>\n",
       "      <td>10</td>\n",
       "      <td>1030</td>\n",
       "      <td>0</td>\n",
       "      <td>23</td>\n",
       "      <td>8</td>\n",
       "      <td>34</td>\n",
       "      <td>29</td>\n",
       "      <td>65</td>\n",
       "      <td>SEA</td>\n",
       "    </tr>\n",
       "    <tr>\n",
       "      <th>3</th>\n",
       "      <td>0.0</td>\n",
       "      <td>1351</td>\n",
       "      <td>738</td>\n",
       "      <td>1</td>\n",
       "      <td>0.0</td>\n",
       "      <td>2.0</td>\n",
       "      <td>740.0</td>\n",
       "      <td>12266</td>\n",
       "      <td>1</td>\n",
       "      <td>14747</td>\n",
       "      <td>...</td>\n",
       "      <td>0.0</td>\n",
       "      <td>10</td>\n",
       "      <td>1030</td>\n",
       "      <td>0</td>\n",
       "      <td>23</td>\n",
       "      <td>8</td>\n",
       "      <td>34</td>\n",
       "      <td>29</td>\n",
       "      <td>65</td>\n",
       "      <td>SEA</td>\n",
       "    </tr>\n",
       "    <tr>\n",
       "      <th>4</th>\n",
       "      <td>0.0</td>\n",
       "      <td>1527</td>\n",
       "      <td>745</td>\n",
       "      <td>1</td>\n",
       "      <td>0.0</td>\n",
       "      <td>0.0</td>\n",
       "      <td>742.0</td>\n",
       "      <td>10397</td>\n",
       "      <td>1</td>\n",
       "      <td>14747</td>\n",
       "      <td>...</td>\n",
       "      <td>0.0</td>\n",
       "      <td>10</td>\n",
       "      <td>1030</td>\n",
       "      <td>0</td>\n",
       "      <td>23</td>\n",
       "      <td>8</td>\n",
       "      <td>34</td>\n",
       "      <td>29</td>\n",
       "      <td>65</td>\n",
       "      <td>SEA</td>\n",
       "    </tr>\n",
       "  </tbody>\n",
       "</table>\n",
       "<p>5 rows × 26 columns</p>\n",
       "</div>"
      ],
      "text/plain": [
       "   ArrDel15  CRSArrTime  CRSDepTime  DayofMonth  DepDel15  DepDelayMinutes  \\\n",
       "0       0.0        1602         745           1       0.0              0.0   \n",
       "1       1.0        1204         820           1       0.0              1.0   \n",
       "2       0.0        1143         759           1       0.0              0.0   \n",
       "3       0.0        1351         738           1       0.0              2.0   \n",
       "4       0.0        1527         745           1       0.0              0.0   \n",
       "\n",
       "   DepTime  DestAirportID  Month  OriginAirportID  ...  precipMM  visibility  \\\n",
       "0    741.0          12478      1            14747  ...       0.0          10   \n",
       "1    821.0          14107      1            14747  ...       0.0          10   \n",
       "2    754.0          11292      1            14747  ...       0.0          10   \n",
       "3    740.0          12266      1            14747  ...       0.0          10   \n",
       "4    742.0          10397      1            14747  ...       0.0          10   \n",
       "\n",
       "   pressure  cloudcover  DewPointF  WindGustKmph  tempF  WindChillF  humidity  \\\n",
       "0      1030           0         23             8     34          29        65   \n",
       "1      1030           0         23             8     34          29        65   \n",
       "2      1030           0         23             8     34          29        65   \n",
       "3      1030           0         23             8     34          29        65   \n",
       "4      1030           0         23             8     34          29        65   \n",
       "\n",
       "   airport  \n",
       "0      SEA  \n",
       "1      SEA  \n",
       "2      SEA  \n",
       "3      SEA  \n",
       "4      SEA  \n",
       "\n",
       "[5 rows x 26 columns]"
      ]
     },
     "execution_count": 4,
     "metadata": {},
     "output_type": "execute_result"
    }
   ],
   "source": [
    "df = df.drop(columns=['Unnamed: 0_x', 'time', 'date', 'FlightDate', 'Unnamed: 0_y', 'Origin', 'ArrDelayMinutes', 'ArrTime'])\n",
    "df.head()"
   ]
  },
  {
   "cell_type": "code",
   "execution_count": 5,
   "metadata": {},
   "outputs": [],
   "source": [
    "# To encode the airport codes\n",
    "from sklearn import preprocessing\n",
    "label_encoder = preprocessing.LabelEncoder()\n",
    "df['airport'] = label_encoder.fit_transform(df['airport'])"
   ]
  },
  {
   "cell_type": "code",
   "execution_count": 6,
   "metadata": {},
   "outputs": [
    {
     "data": {
      "text/html": [
       "<div>\n",
       "<style scoped>\n",
       "    .dataframe tbody tr th:only-of-type {\n",
       "        vertical-align: middle;\n",
       "    }\n",
       "\n",
       "    .dataframe tbody tr th {\n",
       "        vertical-align: top;\n",
       "    }\n",
       "\n",
       "    .dataframe thead th {\n",
       "        text-align: right;\n",
       "    }\n",
       "</style>\n",
       "<table border=\"1\" class=\"dataframe\">\n",
       "  <thead>\n",
       "    <tr style=\"text-align: right;\">\n",
       "      <th></th>\n",
       "      <th>ArrDel15</th>\n",
       "      <th>CRSArrTime</th>\n",
       "      <th>CRSDepTime</th>\n",
       "      <th>DayofMonth</th>\n",
       "      <th>DepDel15</th>\n",
       "      <th>DepDelayMinutes</th>\n",
       "      <th>DepTime</th>\n",
       "      <th>DestAirportID</th>\n",
       "      <th>Month</th>\n",
       "      <th>OriginAirportID</th>\n",
       "      <th>...</th>\n",
       "      <th>precipMM</th>\n",
       "      <th>visibility</th>\n",
       "      <th>pressure</th>\n",
       "      <th>cloudcover</th>\n",
       "      <th>DewPointF</th>\n",
       "      <th>WindGustKmph</th>\n",
       "      <th>tempF</th>\n",
       "      <th>WindChillF</th>\n",
       "      <th>humidity</th>\n",
       "      <th>airport</th>\n",
       "    </tr>\n",
       "  </thead>\n",
       "  <tbody>\n",
       "    <tr>\n",
       "      <th>0</th>\n",
       "      <td>0.0</td>\n",
       "      <td>1602</td>\n",
       "      <td>745</td>\n",
       "      <td>1</td>\n",
       "      <td>0.0</td>\n",
       "      <td>0.0</td>\n",
       "      <td>741.0</td>\n",
       "      <td>12478</td>\n",
       "      <td>1</td>\n",
       "      <td>14747</td>\n",
       "      <td>...</td>\n",
       "      <td>0.0</td>\n",
       "      <td>10</td>\n",
       "      <td>1030</td>\n",
       "      <td>0</td>\n",
       "      <td>23</td>\n",
       "      <td>8</td>\n",
       "      <td>34</td>\n",
       "      <td>29</td>\n",
       "      <td>65</td>\n",
       "      <td>13</td>\n",
       "    </tr>\n",
       "    <tr>\n",
       "      <th>1</th>\n",
       "      <td>1.0</td>\n",
       "      <td>1204</td>\n",
       "      <td>820</td>\n",
       "      <td>1</td>\n",
       "      <td>0.0</td>\n",
       "      <td>1.0</td>\n",
       "      <td>821.0</td>\n",
       "      <td>14107</td>\n",
       "      <td>1</td>\n",
       "      <td>14747</td>\n",
       "      <td>...</td>\n",
       "      <td>0.0</td>\n",
       "      <td>10</td>\n",
       "      <td>1030</td>\n",
       "      <td>0</td>\n",
       "      <td>23</td>\n",
       "      <td>8</td>\n",
       "      <td>34</td>\n",
       "      <td>29</td>\n",
       "      <td>65</td>\n",
       "      <td>13</td>\n",
       "    </tr>\n",
       "    <tr>\n",
       "      <th>2</th>\n",
       "      <td>0.0</td>\n",
       "      <td>1143</td>\n",
       "      <td>759</td>\n",
       "      <td>1</td>\n",
       "      <td>0.0</td>\n",
       "      <td>0.0</td>\n",
       "      <td>754.0</td>\n",
       "      <td>11292</td>\n",
       "      <td>1</td>\n",
       "      <td>14747</td>\n",
       "      <td>...</td>\n",
       "      <td>0.0</td>\n",
       "      <td>10</td>\n",
       "      <td>1030</td>\n",
       "      <td>0</td>\n",
       "      <td>23</td>\n",
       "      <td>8</td>\n",
       "      <td>34</td>\n",
       "      <td>29</td>\n",
       "      <td>65</td>\n",
       "      <td>13</td>\n",
       "    </tr>\n",
       "    <tr>\n",
       "      <th>3</th>\n",
       "      <td>0.0</td>\n",
       "      <td>1351</td>\n",
       "      <td>738</td>\n",
       "      <td>1</td>\n",
       "      <td>0.0</td>\n",
       "      <td>2.0</td>\n",
       "      <td>740.0</td>\n",
       "      <td>12266</td>\n",
       "      <td>1</td>\n",
       "      <td>14747</td>\n",
       "      <td>...</td>\n",
       "      <td>0.0</td>\n",
       "      <td>10</td>\n",
       "      <td>1030</td>\n",
       "      <td>0</td>\n",
       "      <td>23</td>\n",
       "      <td>8</td>\n",
       "      <td>34</td>\n",
       "      <td>29</td>\n",
       "      <td>65</td>\n",
       "      <td>13</td>\n",
       "    </tr>\n",
       "    <tr>\n",
       "      <th>4</th>\n",
       "      <td>0.0</td>\n",
       "      <td>1527</td>\n",
       "      <td>745</td>\n",
       "      <td>1</td>\n",
       "      <td>0.0</td>\n",
       "      <td>0.0</td>\n",
       "      <td>742.0</td>\n",
       "      <td>10397</td>\n",
       "      <td>1</td>\n",
       "      <td>14747</td>\n",
       "      <td>...</td>\n",
       "      <td>0.0</td>\n",
       "      <td>10</td>\n",
       "      <td>1030</td>\n",
       "      <td>0</td>\n",
       "      <td>23</td>\n",
       "      <td>8</td>\n",
       "      <td>34</td>\n",
       "      <td>29</td>\n",
       "      <td>65</td>\n",
       "      <td>13</td>\n",
       "    </tr>\n",
       "  </tbody>\n",
       "</table>\n",
       "<p>5 rows × 26 columns</p>\n",
       "</div>"
      ],
      "text/plain": [
       "   ArrDel15  CRSArrTime  CRSDepTime  DayofMonth  DepDel15  DepDelayMinutes  \\\n",
       "0       0.0        1602         745           1       0.0              0.0   \n",
       "1       1.0        1204         820           1       0.0              1.0   \n",
       "2       0.0        1143         759           1       0.0              0.0   \n",
       "3       0.0        1351         738           1       0.0              2.0   \n",
       "4       0.0        1527         745           1       0.0              0.0   \n",
       "\n",
       "   DepTime  DestAirportID  Month  OriginAirportID  ...  precipMM  visibility  \\\n",
       "0    741.0          12478      1            14747  ...       0.0          10   \n",
       "1    821.0          14107      1            14747  ...       0.0          10   \n",
       "2    754.0          11292      1            14747  ...       0.0          10   \n",
       "3    740.0          12266      1            14747  ...       0.0          10   \n",
       "4    742.0          10397      1            14747  ...       0.0          10   \n",
       "\n",
       "   pressure  cloudcover  DewPointF  WindGustKmph  tempF  WindChillF  humidity  \\\n",
       "0      1030           0         23             8     34          29        65   \n",
       "1      1030           0         23             8     34          29        65   \n",
       "2      1030           0         23             8     34          29        65   \n",
       "3      1030           0         23             8     34          29        65   \n",
       "4      1030           0         23             8     34          29        65   \n",
       "\n",
       "   airport  \n",
       "0       13  \n",
       "1       13  \n",
       "2       13  \n",
       "3       13  \n",
       "4       13  \n",
       "\n",
       "[5 rows x 26 columns]"
      ]
     },
     "execution_count": 6,
     "metadata": {},
     "output_type": "execute_result"
    }
   ],
   "source": [
    "df.head()"
   ]
  },
  {
   "cell_type": "code",
   "execution_count": 7,
   "metadata": {},
   "outputs": [
    {
     "data": {
      "text/plain": [
       "ArrDel15           float64\n",
       "CRSArrTime           int64\n",
       "CRSDepTime           int64\n",
       "DayofMonth           int64\n",
       "DepDel15           float64\n",
       "DepDelayMinutes    float64\n",
       "DepTime            float64\n",
       "DestAirportID        int64\n",
       "Month                int64\n",
       "OriginAirportID      int64\n",
       "Quarter              int64\n",
       "Year                 int64\n",
       "Time_new             int64\n",
       "windspeedKmph        int64\n",
       "winddirDegree        int64\n",
       "weatherCode          int64\n",
       "precipMM           float64\n",
       "visibility           int64\n",
       "pressure             int64\n",
       "cloudcover           int64\n",
       "DewPointF            int64\n",
       "WindGustKmph         int64\n",
       "tempF                int64\n",
       "WindChillF           int64\n",
       "humidity             int64\n",
       "airport              int32\n",
       "dtype: object"
      ]
     },
     "execution_count": 7,
     "metadata": {},
     "output_type": "execute_result"
    }
   ],
   "source": [
    "df.dtypes"
   ]
  },
  {
   "cell_type": "code",
   "execution_count": 8,
   "metadata": {},
   "outputs": [],
   "source": [
    "# train-test split\n",
    "y = df['ArrDel15']\n",
    "X = df.drop(columns = ['ArrDel15'])\n",
    "from sklearn.model_selection import train_test_split\n",
    "X_train, X_test, y_train, y_test = train_test_split(X, y, train_size=0.7)"
   ]
  },
  {
   "cell_type": "code",
   "execution_count": 9,
   "metadata": {},
   "outputs": [
    {
     "data": {
      "text/plain": [
       "((1295765, 25), (555329, 25), (1295765,), (555329,))"
      ]
     },
     "execution_count": 9,
     "metadata": {},
     "output_type": "execute_result"
    }
   ],
   "source": [
    "X_train.shape, X_test.shape, y_train.shape, y_test.shape"
   ]
  },
  {
   "cell_type": "markdown",
   "metadata": {},
   "source": [
    "### Logistic Regression"
   ]
  },
  {
   "cell_type": "code",
   "execution_count": 10,
   "metadata": {},
   "outputs": [],
   "source": [
    "from sklearn.linear_model import LogisticRegression\n",
    "from sklearn.metrics import classification_report"
   ]
  },
  {
   "cell_type": "code",
   "execution_count": 11,
   "metadata": {},
   "outputs": [],
   "source": [
    "logistic_model = LogisticRegression(max_iter=500000)\n",
    "logistic_classifier = logistic_model.fit(X_train, y_train)\n",
    "y_pred_logistic = logistic_model.predict(X_test)"
   ]
  },
  {
   "cell_type": "code",
   "execution_count": 12,
   "metadata": {},
   "outputs": [
    {
     "name": "stdout",
     "output_type": "stream",
     "text": [
      "              precision    recall  f1-score   support\n",
      "\n",
      "         0.0       0.92      0.98      0.95    439115\n",
      "         1.0       0.89      0.69      0.78    116214\n",
      "\n",
      "    accuracy                           0.92    555329\n",
      "   macro avg       0.91      0.83      0.86    555329\n",
      "weighted avg       0.92      0.92      0.91    555329\n",
      "\n"
     ]
    }
   ],
   "source": [
    "print(classification_report(y_test, y_pred_logistic))"
   ]
  },
  {
   "cell_type": "markdown",
   "metadata": {},
   "source": [
    "### Decision Trees"
   ]
  },
  {
   "cell_type": "code",
   "execution_count": 13,
   "metadata": {},
   "outputs": [],
   "source": [
    "from sklearn.tree import DecisionTreeClassifier"
   ]
  },
  {
   "cell_type": "code",
   "execution_count": 14,
   "metadata": {},
   "outputs": [],
   "source": [
    "decision_trees_model = DecisionTreeClassifier()\n",
    "decision_trees_classifier = decision_trees_model.fit(X_train, y_train)\n",
    "y_pred_decisiontrees = decision_trees_model.predict(X_test)"
   ]
  },
  {
   "cell_type": "code",
   "execution_count": 15,
   "metadata": {},
   "outputs": [
    {
     "name": "stdout",
     "output_type": "stream",
     "text": [
      "              precision    recall  f1-score   support\n",
      "\n",
      "         0.0       0.92      0.91      0.92    439115\n",
      "         1.0       0.68      0.71      0.69    116214\n",
      "\n",
      "    accuracy                           0.87    555329\n",
      "   macro avg       0.80      0.81      0.80    555329\n",
      "weighted avg       0.87      0.87      0.87    555329\n",
      "\n"
     ]
    }
   ],
   "source": [
    "print(classification_report(y_test, y_pred_decisiontrees))"
   ]
  },
  {
   "cell_type": "markdown",
   "metadata": {},
   "source": [
    "### Random Forest"
   ]
  },
  {
   "cell_type": "code",
   "execution_count": 16,
   "metadata": {},
   "outputs": [],
   "source": [
    "from sklearn.ensemble import RandomForestClassifier\n",
    "random_forest_model = RandomForestClassifier()\n",
    "random_forest_classifier = random_forest_model.fit(X_train,y_train)\n",
    "y_pred_randomforest = random_forest_model.predict(X_test)"
   ]
  },
  {
   "cell_type": "code",
   "execution_count": 17,
   "metadata": {},
   "outputs": [
    {
     "name": "stdout",
     "output_type": "stream",
     "text": [
      "              precision    recall  f1-score   support\n",
      "\n",
      "         0.0       0.93      0.98      0.95    439115\n",
      "         1.0       0.89      0.70      0.78    116214\n",
      "\n",
      "    accuracy                           0.92    555329\n",
      "   macro avg       0.91      0.84      0.87    555329\n",
      "weighted avg       0.92      0.92      0.92    555329\n",
      "\n"
     ]
    }
   ],
   "source": [
    "print(classification_report(y_test, y_pred_randomforest))"
   ]
  },
  {
   "cell_type": "markdown",
   "metadata": {},
   "source": [
    "### Extra Trees Classifier"
   ]
  },
  {
   "cell_type": "code",
   "execution_count": 18,
   "metadata": {},
   "outputs": [],
   "source": [
    "from sklearn.ensemble import ExtraTreesClassifier\n",
    "extra_trees_model = ExtraTreesClassifier()\n",
    "extra_trees_classifier = extra_trees_model.fit(X_train, y_train)\n",
    "y_pred_extratrees = extra_trees_model.predict(X_test)"
   ]
  },
  {
   "cell_type": "code",
   "execution_count": 19,
   "metadata": {},
   "outputs": [
    {
     "name": "stdout",
     "output_type": "stream",
     "text": [
      "              precision    recall  f1-score   support\n",
      "\n",
      "         0.0       0.93      0.96      0.95    439115\n",
      "         1.0       0.83      0.74      0.78    116214\n",
      "\n",
      "    accuracy                           0.91    555329\n",
      "   macro avg       0.88      0.85      0.86    555329\n",
      "weighted avg       0.91      0.91      0.91    555329\n",
      "\n"
     ]
    }
   ],
   "source": [
    "print(classification_report(y_test, y_pred_extratrees))"
   ]
  },
  {
   "cell_type": "markdown",
   "metadata": {},
   "source": [
    "### XGBoost Classifier"
   ]
  },
  {
   "cell_type": "code",
   "execution_count": 20,
   "metadata": {},
   "outputs": [],
   "source": [
    "import xgboost\n",
    "from xgboost import XGBClassifier\n",
    "xgboost_model = XGBClassifier()\n",
    "xbgoost_classifier = xgboost_model.fit(X_train, y_train)\n",
    "y_pred_xgboost = xgboost_model.predict(X_test)"
   ]
  },
  {
   "cell_type": "code",
   "execution_count": 21,
   "metadata": {},
   "outputs": [
    {
     "name": "stdout",
     "output_type": "stream",
     "text": [
      "              precision    recall  f1-score   support\n",
      "\n",
      "         0.0       0.92      0.98      0.95    439115\n",
      "         1.0       0.90      0.70      0.78    116214\n",
      "\n",
      "    accuracy                           0.92    555329\n",
      "   macro avg       0.91      0.84      0.87    555329\n",
      "weighted avg       0.92      0.92      0.92    555329\n",
      "\n"
     ]
    }
   ],
   "source": [
    "print(classification_report(y_test, y_pred_xgboost))"
   ]
  },
  {
   "cell_type": "markdown",
   "metadata": {},
   "source": [
    "# Sampling the data\n",
    "\n",
    "## 1) SMOTE oversampling"
   ]
  },
  {
   "cell_type": "code",
   "execution_count": 22,
   "metadata": {},
   "outputs": [
    {
     "data": {
      "text/plain": [
       "0.0    1023979\n",
       "1.0     271786\n",
       "Name: ArrDel15, dtype: int64"
      ]
     },
     "execution_count": 22,
     "metadata": {},
     "output_type": "execute_result"
    }
   ],
   "source": [
    "y_train.value_counts()"
   ]
  },
  {
   "cell_type": "code",
   "execution_count": 23,
   "metadata": {},
   "outputs": [],
   "source": [
    "import imblearn.over_sampling\n",
    "over_sampler_SMOTE = imblearn.over_sampling.SMOTE(random_state = 285)\n",
    "X_train_SMOTE, y_train_SMOTE = over_sampler_SMOTE.fit_resample(X_train, y_train)"
   ]
  },
  {
   "cell_type": "code",
   "execution_count": 24,
   "metadata": {},
   "outputs": [
    {
     "data": {
      "text/plain": [
       "1.0    1023979\n",
       "0.0    1023979\n",
       "Name: ArrDel15, dtype: int64"
      ]
     },
     "execution_count": 24,
     "metadata": {},
     "output_type": "execute_result"
    }
   ],
   "source": [
    "y_train_SMOTE.value_counts()"
   ]
  },
  {
   "cell_type": "markdown",
   "metadata": {},
   "source": [
    "### Logistic Regression"
   ]
  },
  {
   "cell_type": "code",
   "execution_count": 25,
   "metadata": {},
   "outputs": [
    {
     "name": "stderr",
     "output_type": "stream",
     "text": [
      "C:\\Users\\charu\\anaconda3\\lib\\site-packages\\sklearn\\linear_model\\_logistic.py:762: ConvergenceWarning: lbfgs failed to converge (status=1):\n",
      "STOP: TOTAL NO. of f AND g EVALUATIONS EXCEEDS LIMIT.\n",
      "\n",
      "Increase the number of iterations (max_iter) or scale the data as shown in:\n",
      "    https://scikit-learn.org/stable/modules/preprocessing.html\n",
      "Please also refer to the documentation for alternative solver options:\n",
      "    https://scikit-learn.org/stable/modules/linear_model.html#logistic-regression\n",
      "  n_iter_i = _check_optimize_result(\n"
     ]
    }
   ],
   "source": [
    "from sklearn.linear_model import LogisticRegression\n",
    "from sklearn.metrics import classification_report\n",
    "logistic_model = LogisticRegression(max_iter=500000)\n",
    "logistic_classifier_SMOTE = logistic_model.fit(X_train_SMOTE, y_train_SMOTE)\n",
    "y_pred_logistic_SMOTE = logistic_model.predict(X_test)"
   ]
  },
  {
   "cell_type": "code",
   "execution_count": 26,
   "metadata": {},
   "outputs": [
    {
     "name": "stdout",
     "output_type": "stream",
     "text": [
      "              precision    recall  f1-score   support\n",
      "\n",
      "         0.0       0.94      0.93      0.93    439115\n",
      "         1.0       0.74      0.78      0.76    116214\n",
      "\n",
      "    accuracy                           0.90    555329\n",
      "   macro avg       0.84      0.85      0.85    555329\n",
      "weighted avg       0.90      0.90      0.90    555329\n",
      "\n"
     ]
    }
   ],
   "source": [
    "print(classification_report(y_test, y_pred_logistic_SMOTE))"
   ]
  },
  {
   "cell_type": "markdown",
   "metadata": {},
   "source": [
    "### Decision Trees"
   ]
  },
  {
   "cell_type": "code",
   "execution_count": 27,
   "metadata": {},
   "outputs": [],
   "source": [
    "from sklearn.tree import DecisionTreeClassifier\n",
    "decision_trees_model = DecisionTreeClassifier()\n",
    "decision_trees_classifier_SMOTE = decision_trees_model.fit(X_train_SMOTE, y_train_SMOTE)\n",
    "y_pred_decisiontrees_SMOTE = decision_trees_model.predict(X_test)"
   ]
  },
  {
   "cell_type": "code",
   "execution_count": 28,
   "metadata": {},
   "outputs": [
    {
     "name": "stdout",
     "output_type": "stream",
     "text": [
      "              precision    recall  f1-score   support\n",
      "\n",
      "         0.0       0.92      0.90      0.91    439115\n",
      "         1.0       0.66      0.71      0.68    116214\n",
      "\n",
      "    accuracy                           0.86    555329\n",
      "   macro avg       0.79      0.81      0.80    555329\n",
      "weighted avg       0.87      0.86      0.86    555329\n",
      "\n"
     ]
    }
   ],
   "source": [
    "print(classification_report(y_test, y_pred_decisiontrees_SMOTE))"
   ]
  },
  {
   "cell_type": "markdown",
   "metadata": {},
   "source": [
    "### Random Forest"
   ]
  },
  {
   "cell_type": "code",
   "execution_count": 29,
   "metadata": {},
   "outputs": [],
   "source": [
    "from sklearn.ensemble import RandomForestClassifier\n",
    "random_forest_model = RandomForestClassifier()\n",
    "random_forest_classifier_SMOTE = random_forest_model.fit(X_train_SMOTE,y_train_SMOTE)\n",
    "y_pred_randomforest_SMOTE = random_forest_model.predict(X_test)"
   ]
  },
  {
   "cell_type": "code",
   "execution_count": 30,
   "metadata": {},
   "outputs": [
    {
     "name": "stdout",
     "output_type": "stream",
     "text": [
      "              precision    recall  f1-score   support\n",
      "\n",
      "         0.0       0.93      0.96      0.95    439115\n",
      "         1.0       0.84      0.74      0.78    116214\n",
      "\n",
      "    accuracy                           0.92    555329\n",
      "   macro avg       0.89      0.85      0.87    555329\n",
      "weighted avg       0.91      0.92      0.91    555329\n",
      "\n"
     ]
    }
   ],
   "source": [
    "print(classification_report(y_test, y_pred_randomforest_SMOTE))"
   ]
  },
  {
   "cell_type": "markdown",
   "metadata": {},
   "source": [
    "### Extra Trees Classifier"
   ]
  },
  {
   "cell_type": "code",
   "execution_count": 31,
   "metadata": {},
   "outputs": [],
   "source": [
    "from sklearn.ensemble import ExtraTreesClassifier\n",
    "extra_trees_model = ExtraTreesClassifier()\n",
    "extra_trees_classifier_SMOTE = extra_trees_model.fit(X_train_SMOTE,y_train_SMOTE)\n",
    "y_pred_extratrees_SMOTE = extra_trees_model.predict(X_test)"
   ]
  },
  {
   "cell_type": "code",
   "execution_count": 32,
   "metadata": {},
   "outputs": [
    {
     "name": "stdout",
     "output_type": "stream",
     "text": [
      "              precision    recall  f1-score   support\n",
      "\n",
      "         0.0       0.94      0.94      0.94    439115\n",
      "         1.0       0.78      0.76      0.77    116214\n",
      "\n",
      "    accuracy                           0.91    555329\n",
      "   macro avg       0.86      0.85      0.86    555329\n",
      "weighted avg       0.91      0.91      0.91    555329\n",
      "\n"
     ]
    }
   ],
   "source": [
    "print(classification_report(y_test, y_pred_extratrees_SMOTE))"
   ]
  },
  {
   "cell_type": "markdown",
   "metadata": {},
   "source": [
    "### XGBoost Classifier"
   ]
  },
  {
   "cell_type": "code",
   "execution_count": 33,
   "metadata": {},
   "outputs": [],
   "source": [
    "from xgboost import XGBClassifier\n",
    "xgboost_model = XGBClassifier()\n",
    "xgboost_classifier_SMOTE = xgboost_model.fit(X_train_SMOTE, y_train_SMOTE)\n",
    "y_pred_xgboost_SMOTE = xgboost_model.predict(X_test)"
   ]
  },
  {
   "cell_type": "code",
   "execution_count": 34,
   "metadata": {},
   "outputs": [
    {
     "name": "stdout",
     "output_type": "stream",
     "text": [
      "              precision    recall  f1-score   support\n",
      "\n",
      "         0.0       0.93      0.97      0.95    439115\n",
      "         1.0       0.87      0.71      0.78    116214\n",
      "\n",
      "    accuracy                           0.92    555329\n",
      "   macro avg       0.90      0.84      0.87    555329\n",
      "weighted avg       0.92      0.92      0.92    555329\n",
      "\n"
     ]
    }
   ],
   "source": [
    "print(classification_report(y_test, y_pred_xgboost_SMOTE))"
   ]
  },
  {
   "cell_type": "markdown",
   "metadata": {},
   "source": [
    "## 2) Random undersampling"
   ]
  },
  {
   "cell_type": "code",
   "execution_count": 35,
   "metadata": {},
   "outputs": [
    {
     "data": {
      "text/plain": [
       "0.0    1023979\n",
       "1.0     271786\n",
       "Name: ArrDel15, dtype: int64"
      ]
     },
     "execution_count": 35,
     "metadata": {},
     "output_type": "execute_result"
    }
   ],
   "source": [
    "y_train.value_counts()"
   ]
  },
  {
   "cell_type": "code",
   "execution_count": 36,
   "metadata": {},
   "outputs": [
    {
     "data": {
      "text/plain": [
       "1.0    271786\n",
       "0.0    271786\n",
       "Name: ArrDel15, dtype: int64"
      ]
     },
     "execution_count": 36,
     "metadata": {},
     "output_type": "execute_result"
    }
   ],
   "source": [
    "from imblearn.under_sampling import RandomUnderSampler\n",
    "random_under_sampler = RandomUnderSampler(random_state = 285)\n",
    "X_train_RUS, y_train_RUS = random_under_sampler.fit_resample(X_train,y_train)\n",
    "y_train_RUS.value_counts()"
   ]
  },
  {
   "cell_type": "markdown",
   "metadata": {},
   "source": [
    "### Logistic Regression"
   ]
  },
  {
   "cell_type": "code",
   "execution_count": 37,
   "metadata": {},
   "outputs": [],
   "source": [
    "from sklearn.linear_model import LogisticRegression\n",
    "from sklearn.metrics import classification_report\n",
    "logistic_model = LogisticRegression(max_iter=500000)\n",
    "logistic_classifier_RUS = logistic_model.fit(X_train_RUS, y_train_RUS)\n",
    "y_pred_logistic_RUS = logistic_model.predict(X_test)"
   ]
  },
  {
   "cell_type": "code",
   "execution_count": 38,
   "metadata": {},
   "outputs": [
    {
     "name": "stdout",
     "output_type": "stream",
     "text": [
      "              precision    recall  f1-score   support\n",
      "\n",
      "         0.0       0.94      0.93      0.93    439115\n",
      "         1.0       0.74      0.78      0.76    116214\n",
      "\n",
      "    accuracy                           0.90    555329\n",
      "   macro avg       0.84      0.85      0.85    555329\n",
      "weighted avg       0.90      0.90      0.90    555329\n",
      "\n"
     ]
    }
   ],
   "source": [
    "print(classification_report(y_test, y_pred_logistic_RUS))"
   ]
  },
  {
   "cell_type": "markdown",
   "metadata": {},
   "source": [
    "### Decision Trees"
   ]
  },
  {
   "cell_type": "code",
   "execution_count": 39,
   "metadata": {},
   "outputs": [],
   "source": [
    "from sklearn.tree import DecisionTreeClassifier\n",
    "decision_trees_model = DecisionTreeClassifier()\n",
    "decision_trees_classifier_RUS = decision_trees_model.fit(X_train_RUS, y_train_RUS)\n",
    "y_pred_decisiontrees_RUS = extra_trees_model.predict(X_test)"
   ]
  },
  {
   "cell_type": "code",
   "execution_count": 40,
   "metadata": {},
   "outputs": [
    {
     "name": "stdout",
     "output_type": "stream",
     "text": [
      "              precision    recall  f1-score   support\n",
      "\n",
      "         0.0       0.94      0.94      0.94    439115\n",
      "         1.0       0.78      0.76      0.77    116214\n",
      "\n",
      "    accuracy                           0.91    555329\n",
      "   macro avg       0.86      0.85      0.86    555329\n",
      "weighted avg       0.91      0.91      0.91    555329\n",
      "\n"
     ]
    }
   ],
   "source": [
    "print(classification_report(y_test, y_pred_decisiontrees_RUS))"
   ]
  },
  {
   "cell_type": "markdown",
   "metadata": {},
   "source": [
    "### Random Forest"
   ]
  },
  {
   "cell_type": "code",
   "execution_count": 41,
   "metadata": {},
   "outputs": [],
   "source": [
    "from sklearn.ensemble import RandomForestClassifier\n",
    "random_forest_model = RandomForestClassifier()\n",
    "random_forest_classifier_RUS = random_forest_model.fit(X_train_RUS, y_train_RUS)\n",
    "y_pred_randomforest_RUS = random_forest_model.predict(X_test)"
   ]
  },
  {
   "cell_type": "code",
   "execution_count": 42,
   "metadata": {},
   "outputs": [
    {
     "name": "stdout",
     "output_type": "stream",
     "text": [
      "              precision    recall  f1-score   support\n",
      "\n",
      "         0.0       0.95      0.91      0.93    439115\n",
      "         1.0       0.71      0.81      0.76    116214\n",
      "\n",
      "    accuracy                           0.89    555329\n",
      "   macro avg       0.83      0.86      0.84    555329\n",
      "weighted avg       0.90      0.89      0.89    555329\n",
      "\n"
     ]
    }
   ],
   "source": [
    "print(classification_report(y_test,y_pred_randomforest_RUS))"
   ]
  },
  {
   "cell_type": "markdown",
   "metadata": {},
   "source": [
    "### Extra Trees Classifier"
   ]
  },
  {
   "cell_type": "code",
   "execution_count": 43,
   "metadata": {},
   "outputs": [],
   "source": [
    "from sklearn.ensemble import ExtraTreesClassifier\n",
    "extra_trees_model = ExtraTreesClassifier()\n",
    "extra_trees_classifier_RUS = extra_trees_model.fit(X_train_RUS, y_train_RUS)\n",
    "y_pred_extratrees_RUS = extra_trees_model.predict(X_test)"
   ]
  },
  {
   "cell_type": "code",
   "execution_count": 44,
   "metadata": {},
   "outputs": [
    {
     "name": "stdout",
     "output_type": "stream",
     "text": [
      "              precision    recall  f1-score   support\n",
      "\n",
      "         0.0       0.95      0.90      0.92    439115\n",
      "         1.0       0.68      0.82      0.74    116214\n",
      "\n",
      "    accuracy                           0.88    555329\n",
      "   macro avg       0.81      0.86      0.83    555329\n",
      "weighted avg       0.89      0.88      0.89    555329\n",
      "\n"
     ]
    }
   ],
   "source": [
    "print(classification_report(y_test, y_pred_extratrees_RUS))"
   ]
  },
  {
   "cell_type": "markdown",
   "metadata": {},
   "source": [
    "### XGBoost Classifier"
   ]
  },
  {
   "cell_type": "code",
   "execution_count": 45,
   "metadata": {},
   "outputs": [],
   "source": [
    "from xgboost import XGBClassifier\n",
    "xgboost_model = XGBClassifier()\n",
    "xgboost_classifier_RUS = xgboost_model.fit(X_train_RUS, y_train_RUS)\n",
    "y_pred_xgboost_RUS = xgboost_model.predict(X_test)"
   ]
  },
  {
   "cell_type": "code",
   "execution_count": 46,
   "metadata": {},
   "outputs": [
    {
     "name": "stdout",
     "output_type": "stream",
     "text": [
      "              precision    recall  f1-score   support\n",
      "\n",
      "         0.0       0.95      0.92      0.93    439115\n",
      "         1.0       0.73      0.80      0.76    116214\n",
      "\n",
      "    accuracy                           0.90    555329\n",
      "   macro avg       0.84      0.86      0.85    555329\n",
      "weighted avg       0.90      0.90      0.90    555329\n",
      "\n"
     ]
    }
   ],
   "source": [
    "print(classification_report(y_test, y_pred_xgboost_RUS))"
   ]
  }
 ],
 "metadata": {
  "kernelspec": {
   "display_name": "Python 3",
   "language": "python",
   "name": "python3"
  },
  "language_info": {
   "codemirror_mode": {
    "name": "ipython",
    "version": 3
   },
   "file_extension": ".py",
   "mimetype": "text/x-python",
   "name": "python",
   "nbconvert_exporter": "python",
   "pygments_lexer": "ipython3",
   "version": "3.8.3"
  }
 },
 "nbformat": 4,
 "nbformat_minor": 4
}
