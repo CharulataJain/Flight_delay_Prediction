{
 "cells": [
  {
   "cell_type": "code",
   "execution_count": 28,
   "metadata": {},
   "outputs": [],
   "source": [
    "import pandas as pd\n",
    "import sklearn.metrics"
   ]
  },
  {
   "cell_type": "code",
   "execution_count": 29,
   "metadata": {},
   "outputs": [
    {
     "data": {
      "text/html": [
       "<div>\n",
       "<style scoped>\n",
       "    .dataframe tbody tr th:only-of-type {\n",
       "        vertical-align: middle;\n",
       "    }\n",
       "\n",
       "    .dataframe tbody tr th {\n",
       "        vertical-align: top;\n",
       "    }\n",
       "\n",
       "    .dataframe thead th {\n",
       "        text-align: right;\n",
       "    }\n",
       "</style>\n",
       "<table border=\"1\" class=\"dataframe\">\n",
       "  <thead>\n",
       "    <tr style=\"text-align: right;\">\n",
       "      <th></th>\n",
       "      <th>Unnamed: 0_x</th>\n",
       "      <th>ArrDel15</th>\n",
       "      <th>ArrDelayMinutes</th>\n",
       "      <th>ArrTime</th>\n",
       "      <th>CRSArrTime</th>\n",
       "      <th>CRSDepTime</th>\n",
       "      <th>DayofMonth</th>\n",
       "      <th>DepDel15</th>\n",
       "      <th>DepDelayMinutes</th>\n",
       "      <th>DepTime</th>\n",
       "      <th>...</th>\n",
       "      <th>pressure_y</th>\n",
       "      <th>cloudcover_y</th>\n",
       "      <th>DewPointF_y</th>\n",
       "      <th>WindGustKmph_y</th>\n",
       "      <th>tempF_y</th>\n",
       "      <th>WindChillF_y</th>\n",
       "      <th>humidity_y</th>\n",
       "      <th>time_y</th>\n",
       "      <th>date_y</th>\n",
       "      <th>airport_y</th>\n",
       "    </tr>\n",
       "  </thead>\n",
       "  <tbody>\n",
       "    <tr>\n",
       "      <th>0</th>\n",
       "      <td>0</td>\n",
       "      <td>0.0</td>\n",
       "      <td>8.0</td>\n",
       "      <td>1610.0</td>\n",
       "      <td>1602</td>\n",
       "      <td>745</td>\n",
       "      <td>1</td>\n",
       "      <td>0.0</td>\n",
       "      <td>0.0</td>\n",
       "      <td>741.0</td>\n",
       "      <td>...</td>\n",
       "      <td>1015</td>\n",
       "      <td>0</td>\n",
       "      <td>32</td>\n",
       "      <td>26</td>\n",
       "      <td>41</td>\n",
       "      <td>32</td>\n",
       "      <td>74</td>\n",
       "      <td>1600</td>\n",
       "      <td>2016-01-01</td>\n",
       "      <td>JFK</td>\n",
       "    </tr>\n",
       "    <tr>\n",
       "      <th>1</th>\n",
       "      <td>557</td>\n",
       "      <td>1.0</td>\n",
       "      <td>25.0</td>\n",
       "      <td>1628.0</td>\n",
       "      <td>1603</td>\n",
       "      <td>1330</td>\n",
       "      <td>1</td>\n",
       "      <td>1.0</td>\n",
       "      <td>38.0</td>\n",
       "      <td>1408.0</td>\n",
       "      <td>...</td>\n",
       "      <td>1015</td>\n",
       "      <td>0</td>\n",
       "      <td>32</td>\n",
       "      <td>26</td>\n",
       "      <td>41</td>\n",
       "      <td>32</td>\n",
       "      <td>74</td>\n",
       "      <td>1600</td>\n",
       "      <td>2016-01-01</td>\n",
       "      <td>JFK</td>\n",
       "    </tr>\n",
       "    <tr>\n",
       "      <th>2</th>\n",
       "      <td>282</td>\n",
       "      <td>0.0</td>\n",
       "      <td>0.0</td>\n",
       "      <td>1540.0</td>\n",
       "      <td>1600</td>\n",
       "      <td>1310</td>\n",
       "      <td>1</td>\n",
       "      <td>0.0</td>\n",
       "      <td>0.0</td>\n",
       "      <td>1306.0</td>\n",
       "      <td>...</td>\n",
       "      <td>1015</td>\n",
       "      <td>0</td>\n",
       "      <td>32</td>\n",
       "      <td>26</td>\n",
       "      <td>41</td>\n",
       "      <td>32</td>\n",
       "      <td>74</td>\n",
       "      <td>1600</td>\n",
       "      <td>2016-01-01</td>\n",
       "      <td>JFK</td>\n",
       "    </tr>\n",
       "    <tr>\n",
       "      <th>3</th>\n",
       "      <td>51602</td>\n",
       "      <td>0.0</td>\n",
       "      <td>0.0</td>\n",
       "      <td>1508.0</td>\n",
       "      <td>1530</td>\n",
       "      <td>700</td>\n",
       "      <td>1</td>\n",
       "      <td>0.0</td>\n",
       "      <td>0.0</td>\n",
       "      <td>659.0</td>\n",
       "      <td>...</td>\n",
       "      <td>1015</td>\n",
       "      <td>0</td>\n",
       "      <td>32</td>\n",
       "      <td>26</td>\n",
       "      <td>41</td>\n",
       "      <td>32</td>\n",
       "      <td>74</td>\n",
       "      <td>1600</td>\n",
       "      <td>2016-01-01</td>\n",
       "      <td>JFK</td>\n",
       "    </tr>\n",
       "    <tr>\n",
       "      <th>4</th>\n",
       "      <td>1506</td>\n",
       "      <td>0.0</td>\n",
       "      <td>0.0</td>\n",
       "      <td>1600.0</td>\n",
       "      <td>1624</td>\n",
       "      <td>800</td>\n",
       "      <td>1</td>\n",
       "      <td>0.0</td>\n",
       "      <td>0.0</td>\n",
       "      <td>758.0</td>\n",
       "      <td>...</td>\n",
       "      <td>1015</td>\n",
       "      <td>0</td>\n",
       "      <td>32</td>\n",
       "      <td>26</td>\n",
       "      <td>41</td>\n",
       "      <td>32</td>\n",
       "      <td>74</td>\n",
       "      <td>1600</td>\n",
       "      <td>2016-01-01</td>\n",
       "      <td>JFK</td>\n",
       "    </tr>\n",
       "  </tbody>\n",
       "</table>\n",
       "<p>5 rows × 52 columns</p>\n",
       "</div>"
      ],
      "text/plain": [
       "   Unnamed: 0_x  ArrDel15  ArrDelayMinutes  ArrTime  CRSArrTime  CRSDepTime  \\\n",
       "0             0       0.0              8.0   1610.0        1602         745   \n",
       "1           557       1.0             25.0   1628.0        1603        1330   \n",
       "2           282       0.0              0.0   1540.0        1600        1310   \n",
       "3         51602       0.0              0.0   1508.0        1530         700   \n",
       "4          1506       0.0              0.0   1600.0        1624         800   \n",
       "\n",
       "   DayofMonth  DepDel15  DepDelayMinutes  DepTime  ...  pressure_y  \\\n",
       "0           1       0.0              0.0    741.0  ...        1015   \n",
       "1           1       1.0             38.0   1408.0  ...        1015   \n",
       "2           1       0.0              0.0   1306.0  ...        1015   \n",
       "3           1       0.0              0.0    659.0  ...        1015   \n",
       "4           1       0.0              0.0    758.0  ...        1015   \n",
       "\n",
       "  cloudcover_y  DewPointF_y WindGustKmph_y  tempF_y  WindChillF_y  humidity_y  \\\n",
       "0            0           32             26       41            32          74   \n",
       "1            0           32             26       41            32          74   \n",
       "2            0           32             26       41            32          74   \n",
       "3            0           32             26       41            32          74   \n",
       "4            0           32             26       41            32          74   \n",
       "\n",
       "  time_y      date_y  airport_y  \n",
       "0   1600  2016-01-01        JFK  \n",
       "1   1600  2016-01-01        JFK  \n",
       "2   1600  2016-01-01        JFK  \n",
       "3   1600  2016-01-01        JFK  \n",
       "4   1600  2016-01-01        JFK  \n",
       "\n",
       "[5 rows x 52 columns]"
      ]
     },
     "execution_count": 29,
     "metadata": {},
     "output_type": "execute_result"
    }
   ],
   "source": [
    "df = pd.read_csv(\"Data/Final_data.csv\")\n",
    "df.head()"
   ]
  },
  {
   "cell_type": "code",
   "execution_count": 30,
   "metadata": {},
   "outputs": [
    {
     "data": {
      "text/html": [
       "<div>\n",
       "<style scoped>\n",
       "    .dataframe tbody tr th:only-of-type {\n",
       "        vertical-align: middle;\n",
       "    }\n",
       "\n",
       "    .dataframe tbody tr th {\n",
       "        vertical-align: top;\n",
       "    }\n",
       "\n",
       "    .dataframe thead th {\n",
       "        text-align: right;\n",
       "    }\n",
       "</style>\n",
       "<table border=\"1\" class=\"dataframe\">\n",
       "  <thead>\n",
       "    <tr style=\"text-align: right;\">\n",
       "      <th></th>\n",
       "      <th>ArrDel15</th>\n",
       "      <th>ArrDelayMinutes</th>\n",
       "      <th>CRSArrTime</th>\n",
       "      <th>CRSDepTime</th>\n",
       "      <th>DayofMonth</th>\n",
       "      <th>DepDel15</th>\n",
       "      <th>DepDelayMinutes</th>\n",
       "      <th>DepTime</th>\n",
       "      <th>DestAirportID</th>\n",
       "      <th>Month</th>\n",
       "      <th>...</th>\n",
       "      <th>weatherCode_y</th>\n",
       "      <th>precipMM_y</th>\n",
       "      <th>visibility_y</th>\n",
       "      <th>pressure_y</th>\n",
       "      <th>cloudcover_y</th>\n",
       "      <th>DewPointF_y</th>\n",
       "      <th>WindGustKmph_y</th>\n",
       "      <th>tempF_y</th>\n",
       "      <th>WindChillF_y</th>\n",
       "      <th>humidity_y</th>\n",
       "    </tr>\n",
       "  </thead>\n",
       "  <tbody>\n",
       "    <tr>\n",
       "      <th>0</th>\n",
       "      <td>0.0</td>\n",
       "      <td>8.0</td>\n",
       "      <td>1602</td>\n",
       "      <td>745</td>\n",
       "      <td>1</td>\n",
       "      <td>0.0</td>\n",
       "      <td>0.0</td>\n",
       "      <td>741.0</td>\n",
       "      <td>12478</td>\n",
       "      <td>1</td>\n",
       "      <td>...</td>\n",
       "      <td>113</td>\n",
       "      <td>0.0</td>\n",
       "      <td>10</td>\n",
       "      <td>1015</td>\n",
       "      <td>0</td>\n",
       "      <td>32</td>\n",
       "      <td>26</td>\n",
       "      <td>41</td>\n",
       "      <td>32</td>\n",
       "      <td>74</td>\n",
       "    </tr>\n",
       "    <tr>\n",
       "      <th>1</th>\n",
       "      <td>1.0</td>\n",
       "      <td>25.0</td>\n",
       "      <td>1603</td>\n",
       "      <td>1330</td>\n",
       "      <td>1</td>\n",
       "      <td>1.0</td>\n",
       "      <td>38.0</td>\n",
       "      <td>1408.0</td>\n",
       "      <td>12478</td>\n",
       "      <td>1</td>\n",
       "      <td>...</td>\n",
       "      <td>113</td>\n",
       "      <td>0.0</td>\n",
       "      <td>10</td>\n",
       "      <td>1015</td>\n",
       "      <td>0</td>\n",
       "      <td>32</td>\n",
       "      <td>26</td>\n",
       "      <td>41</td>\n",
       "      <td>32</td>\n",
       "      <td>74</td>\n",
       "    </tr>\n",
       "    <tr>\n",
       "      <th>2</th>\n",
       "      <td>0.0</td>\n",
       "      <td>0.0</td>\n",
       "      <td>1600</td>\n",
       "      <td>1310</td>\n",
       "      <td>1</td>\n",
       "      <td>0.0</td>\n",
       "      <td>0.0</td>\n",
       "      <td>1306.0</td>\n",
       "      <td>12478</td>\n",
       "      <td>1</td>\n",
       "      <td>...</td>\n",
       "      <td>113</td>\n",
       "      <td>0.0</td>\n",
       "      <td>10</td>\n",
       "      <td>1015</td>\n",
       "      <td>0</td>\n",
       "      <td>32</td>\n",
       "      <td>26</td>\n",
       "      <td>41</td>\n",
       "      <td>32</td>\n",
       "      <td>74</td>\n",
       "    </tr>\n",
       "    <tr>\n",
       "      <th>3</th>\n",
       "      <td>0.0</td>\n",
       "      <td>0.0</td>\n",
       "      <td>1530</td>\n",
       "      <td>700</td>\n",
       "      <td>1</td>\n",
       "      <td>0.0</td>\n",
       "      <td>0.0</td>\n",
       "      <td>659.0</td>\n",
       "      <td>12478</td>\n",
       "      <td>1</td>\n",
       "      <td>...</td>\n",
       "      <td>113</td>\n",
       "      <td>0.0</td>\n",
       "      <td>10</td>\n",
       "      <td>1015</td>\n",
       "      <td>0</td>\n",
       "      <td>32</td>\n",
       "      <td>26</td>\n",
       "      <td>41</td>\n",
       "      <td>32</td>\n",
       "      <td>74</td>\n",
       "    </tr>\n",
       "    <tr>\n",
       "      <th>4</th>\n",
       "      <td>0.0</td>\n",
       "      <td>0.0</td>\n",
       "      <td>1624</td>\n",
       "      <td>800</td>\n",
       "      <td>1</td>\n",
       "      <td>0.0</td>\n",
       "      <td>0.0</td>\n",
       "      <td>758.0</td>\n",
       "      <td>12478</td>\n",
       "      <td>1</td>\n",
       "      <td>...</td>\n",
       "      <td>113</td>\n",
       "      <td>0.0</td>\n",
       "      <td>10</td>\n",
       "      <td>1015</td>\n",
       "      <td>0</td>\n",
       "      <td>32</td>\n",
       "      <td>26</td>\n",
       "      <td>41</td>\n",
       "      <td>32</td>\n",
       "      <td>74</td>\n",
       "    </tr>\n",
       "  </tbody>\n",
       "</table>\n",
       "<p>5 rows × 39 columns</p>\n",
       "</div>"
      ],
      "text/plain": [
       "   ArrDel15  ArrDelayMinutes  CRSArrTime  CRSDepTime  DayofMonth  DepDel15  \\\n",
       "0       0.0              8.0        1602         745           1       0.0   \n",
       "1       1.0             25.0        1603        1330           1       1.0   \n",
       "2       0.0              0.0        1600        1310           1       0.0   \n",
       "3       0.0              0.0        1530         700           1       0.0   \n",
       "4       0.0              0.0        1624         800           1       0.0   \n",
       "\n",
       "   DepDelayMinutes  DepTime  DestAirportID  Month  ... weatherCode_y  \\\n",
       "0              0.0    741.0          12478      1  ...           113   \n",
       "1             38.0   1408.0          12478      1  ...           113   \n",
       "2              0.0   1306.0          12478      1  ...           113   \n",
       "3              0.0    659.0          12478      1  ...           113   \n",
       "4              0.0    758.0          12478      1  ...           113   \n",
       "\n",
       "   precipMM_y  visibility_y  pressure_y cloudcover_y  DewPointF_y  \\\n",
       "0         0.0            10        1015            0           32   \n",
       "1         0.0            10        1015            0           32   \n",
       "2         0.0            10        1015            0           32   \n",
       "3         0.0            10        1015            0           32   \n",
       "4         0.0            10        1015            0           32   \n",
       "\n",
       "   WindGustKmph_y  tempF_y  WindChillF_y  humidity_y  \n",
       "0              26       41            32          74  \n",
       "1              26       41            32          74  \n",
       "2              26       41            32          74  \n",
       "3              26       41            32          74  \n",
       "4              26       41            32          74  \n",
       "\n",
       "[5 rows x 39 columns]"
      ]
     },
     "execution_count": 30,
     "metadata": {},
     "output_type": "execute_result"
    }
   ],
   "source": [
    "df = df.drop(columns=['Unnamed: 0_x', 'time_x', 'date_x','time_y', 'date_y', 'FlightDate', 'Unnamed: 0_y', 'airport_y', \n",
    "                      'airport_x', 'ArrTime', 'Time_new_dept', 'Time_new_arr','Unnamed: 0'])\n",
    "df.head()"
   ]
  },
  {
   "cell_type": "code",
   "execution_count": 31,
   "metadata": {},
   "outputs": [
    {
     "data": {
      "text/plain": [
       "Index(['ArrDel15', 'ArrDelayMinutes', 'CRSArrTime', 'CRSDepTime', 'DayofMonth',\n",
       "       'DepDel15', 'DepDelayMinutes', 'DepTime', 'DestAirportID', 'Month',\n",
       "       'Origin', 'OriginAirportID', 'Quarter', 'Year', 'Dest',\n",
       "       'windspeedKmph_x', 'winddirDegree_x', 'weatherCode_x', 'precipMM_x',\n",
       "       'visibility_x', 'pressure_x', 'cloudcover_x', 'DewPointF_x',\n",
       "       'WindGustKmph_x', 'tempF_x', 'WindChillF_x', 'humidity_x',\n",
       "       'windspeedKmph_y', 'winddirDegree_y', 'weatherCode_y', 'precipMM_y',\n",
       "       'visibility_y', 'pressure_y', 'cloudcover_y', 'DewPointF_y',\n",
       "       'WindGustKmph_y', 'tempF_y', 'WindChillF_y', 'humidity_y'],\n",
       "      dtype='object')"
      ]
     },
     "execution_count": 31,
     "metadata": {},
     "output_type": "execute_result"
    }
   ],
   "source": [
    "df.columns"
   ]
  },
  {
   "cell_type": "code",
   "execution_count": 32,
   "metadata": {},
   "outputs": [],
   "source": [
    "from sklearn import preprocessing\n",
    "label = preprocessing.LabelEncoder()\n",
    "df['Origin'] = label.fit_transform(df['Origin'])\n",
    "df['Dest'] = label.fit_transform(df['Dest'])"
   ]
  },
  {
   "cell_type": "code",
   "execution_count": 33,
   "metadata": {},
   "outputs": [],
   "source": [
    "y = df[['ArrDel15', 'ArrDelayMinutes']]\n",
    "X = df.drop(columns = ['ArrDel15', 'ArrDelayMinutes'])"
   ]
  },
  {
   "cell_type": "code",
   "execution_count": 34,
   "metadata": {},
   "outputs": [],
   "source": [
    "from sklearn.model_selection import train_test_split  \n",
    "X_train, X_test, y_train, y_test = train_test_split(X, y, train_size = 0.70, random_state = 50)"
   ]
  },
  {
   "cell_type": "code",
   "execution_count": 35,
   "metadata": {},
   "outputs": [],
   "source": [
    "y_train_classification, y_test_classification = y_train[\"ArrDel15\"], y_test[\"ArrDel15\"]\n",
    "y_test_regression = y_test[\"ArrDelayMinutes\"]"
   ]
  },
  {
   "cell_type": "code",
   "execution_count": 36,
   "metadata": {},
   "outputs": [],
   "source": [
    "import xgboost\n",
    "from xgboost import XGBClassifier\n",
    "xgboost_model = XGBClassifier()\n",
    "xbgoost_classifier = xgboost_model.fit(X_train, y_train_classification)"
   ]
  },
  {
   "cell_type": "code",
   "execution_count": 37,
   "metadata": {},
   "outputs": [],
   "source": [
    "y_pred_xgboost = xgboost_model.predict(X_test)"
   ]
  },
  {
   "cell_type": "code",
   "execution_count": 38,
   "metadata": {},
   "outputs": [
    {
     "data": {
      "text/plain": [
       "'              precision    recall  f1-score   support\\n\\n         0.0       0.92      0.98      0.95    438809\\n         1.0       0.90      0.70      0.79    116418\\n\\n    accuracy                           0.92    555227\\n   macro avg       0.91      0.84      0.87    555227\\nweighted avg       0.92      0.92      0.92    555227\\n'"
      ]
     },
     "execution_count": 38,
     "metadata": {},
     "output_type": "execute_result"
    }
   ],
   "source": [
    "sklearn.metrics.classification_report(y_test_classification, y_pred_xgboost)"
   ]
  },
  {
   "cell_type": "code",
   "execution_count": 39,
   "metadata": {
    "scrolled": false
   },
   "outputs": [
    {
     "name": "stderr",
     "output_type": "stream",
     "text": [
      "<ipython-input-39-b8ccfceb4856>:1: SettingWithCopyWarning: \n",
      "A value is trying to be set on a copy of a slice from a DataFrame.\n",
      "Try using .loc[row_indexer,col_indexer] = value instead\n",
      "\n",
      "See the caveats in the documentation: https://pandas.pydata.org/pandas-docs/stable/user_guide/indexing.html#returning-a-view-versus-a-copy\n",
      "  X_test[\"Predicted_ArrDel15\"] = y_pred_xgboost\n"
     ]
    },
    {
     "data": {
      "text/plain": [
       "(90636, 37)"
      ]
     },
     "execution_count": 39,
     "metadata": {},
     "output_type": "execute_result"
    }
   ],
   "source": [
    "X_test[\"Predicted_ArrDel15\"] = y_pred_xgboost\n",
    "X_test = X_test.loc[:][X_test[\"Predicted_ArrDel15\"]==1]\n",
    "X_test = X_test.drop([\"Predicted_ArrDel15\"],axis=1)\n",
    "X_test.shape"
   ]
  },
  {
   "cell_type": "code",
   "execution_count": 40,
   "metadata": {},
   "outputs": [],
   "source": [
    "y_test_regression_new= pd.DataFrame(y_test_regression)\n",
    "\n",
    "y_test_regression_new[\"Predicted_ArrDel15\"] = y_pred_xgboost\n",
    "\n",
    "y_test_regression_new = y_test_regression_new.loc[y_test_regression_new[\"Predicted_ArrDel15\"] == 1]\n",
    "\n",
    "y_test_regression_new = y_test_regression_new.drop([\"Predicted_ArrDel15\"], axis = 1)"
   ]
  },
  {
   "cell_type": "code",
   "execution_count": 41,
   "metadata": {},
   "outputs": [],
   "source": [
    "y_test_regression_new = pd.Series(y_test_regression_new[\"ArrDelayMinutes\"])"
   ]
  },
  {
   "cell_type": "code",
   "execution_count": 42,
   "metadata": {},
   "outputs": [
    {
     "data": {
      "text/plain": [
       "((90636, 37), (90636,))"
      ]
     },
     "execution_count": 42,
     "metadata": {},
     "output_type": "execute_result"
    }
   ],
   "source": [
    "X_test.shape, y_test_regression_new.shape"
   ]
  },
  {
   "cell_type": "code",
   "execution_count": 43,
   "metadata": {
    "scrolled": false
   },
   "outputs": [
    {
     "name": "stderr",
     "output_type": "stream",
     "text": [
      "<ipython-input-43-cde8f05ca3c0>:1: SettingWithCopyWarning: \n",
      "A value is trying to be set on a copy of a slice from a DataFrame.\n",
      "Try using .loc[row_indexer,col_indexer] = value instead\n",
      "\n",
      "See the caveats in the documentation: https://pandas.pydata.org/pandas-docs/stable/user_guide/indexing.html#returning-a-view-versus-a-copy\n",
      "  X_train[\"ArrDel15\"] = y_train[\"ArrDel15\"]\n"
     ]
    }
   ],
   "source": [
    "X_train[\"ArrDel15\"] = y_train[\"ArrDel15\"]\n",
    "X_train = X_train.loc[X_train[\"ArrDel15\"]==1]\n",
    "X_train = X_train.drop(\"ArrDel15\", axis = 1)\n",
    "y_train_regression = y_train.loc[y_train[\"ArrDel15\"] == 1]\n",
    "y_train_regression = y_train_regression.drop(\"ArrDel15\", axis = 1)"
   ]
  },
  {
   "cell_type": "code",
   "execution_count": 44,
   "metadata": {},
   "outputs": [
    {
     "data": {
      "text/plain": [
       "((271516, 37), (271516, 1), (90636, 37), (90636,))"
      ]
     },
     "execution_count": 44,
     "metadata": {},
     "output_type": "execute_result"
    }
   ],
   "source": [
    "X_train.shape, y_train_regression.shape, X_test.shape, y_test_regression_new.shape"
   ]
  },
  {
   "cell_type": "code",
   "execution_count": null,
   "metadata": {},
   "outputs": [],
   "source": [
    "from xgboost import XGBRegressor\n",
    "xgboost_regressor = XGBRegressor()\n",
    "xgboost_regressor.fit(X_train,y_train_regression)\n",
    "y_pred_xgboost_regression = xgboost_regressor.predict(X_test)"
   ]
  },
  {
   "cell_type": "code",
   "execution_count": null,
   "metadata": {},
   "outputs": [],
   "source": [
    "from sklearn import metrics\n",
    "import numpy as np\n",
    "mean_absolute_error=metrics.mean_absolute_error(y_test_regression_new, y_pred_xgboost_regression) \n",
    "MSE=metrics.mean_squared_error(y_test_regression_new, y_pred_xgboost_regression) \n",
    "RMSE= np.sqrt(MSE)\n",
    "R2=metrics.r2_score(y_test_regression_new, y_pred_xgboost_regression)\n",
    "print(mean_absolute_error)\n",
    "print(MSE)\n",
    "print(RMSE)\n",
    "print(R2)"
   ]
  }
 ],
 "metadata": {
  "kernelspec": {
   "display_name": "Python 3",
   "language": "python",
   "name": "python3"
  },
  "language_info": {
   "codemirror_mode": {
    "name": "ipython",
    "version": 3
   },
   "file_extension": ".py",
   "mimetype": "text/x-python",
   "name": "python",
   "nbconvert_exporter": "python",
   "pygments_lexer": "ipython3",
   "version": "3.8.3"
  }
 },
 "nbformat": 4,
 "nbformat_minor": 4
}
