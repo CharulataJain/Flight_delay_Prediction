{
 "cells": [
  {
   "cell_type": "code",
   "execution_count": 1,
   "metadata": {},
   "outputs": [],
   "source": [
    "import pandas as pd\n",
    "from sklearn.metrics import classification_report\n",
    "import warnings\n",
    "warnings.filterwarnings(\"ignore\")"
   ]
  },
  {
   "cell_type": "code",
   "execution_count": 2,
   "metadata": {},
   "outputs": [
    {
     "data": {
      "text/html": [
       "<div>\n",
       "<style scoped>\n",
       "    .dataframe tbody tr th:only-of-type {\n",
       "        vertical-align: middle;\n",
       "    }\n",
       "\n",
       "    .dataframe tbody tr th {\n",
       "        vertical-align: top;\n",
       "    }\n",
       "\n",
       "    .dataframe thead th {\n",
       "        text-align: right;\n",
       "    }\n",
       "</style>\n",
       "<table border=\"1\" class=\"dataframe\">\n",
       "  <thead>\n",
       "    <tr style=\"text-align: right;\">\n",
       "      <th></th>\n",
       "      <th>Unnamed: 0_x</th>\n",
       "      <th>ArrDel15</th>\n",
       "      <th>ArrDelayMinutes</th>\n",
       "      <th>ArrTime</th>\n",
       "      <th>CRSArrTime</th>\n",
       "      <th>CRSDepTime</th>\n",
       "      <th>DayofMonth</th>\n",
       "      <th>DepDel15</th>\n",
       "      <th>DepDelayMinutes</th>\n",
       "      <th>DepTime</th>\n",
       "      <th>...</th>\n",
       "      <th>pressure_y</th>\n",
       "      <th>cloudcover_y</th>\n",
       "      <th>DewPointF_y</th>\n",
       "      <th>WindGustKmph_y</th>\n",
       "      <th>tempF_y</th>\n",
       "      <th>WindChillF_y</th>\n",
       "      <th>humidity_y</th>\n",
       "      <th>time_y</th>\n",
       "      <th>date_y</th>\n",
       "      <th>airport_y</th>\n",
       "    </tr>\n",
       "  </thead>\n",
       "  <tbody>\n",
       "    <tr>\n",
       "      <th>0</th>\n",
       "      <td>0</td>\n",
       "      <td>0.0</td>\n",
       "      <td>8.0</td>\n",
       "      <td>1610.0</td>\n",
       "      <td>1602</td>\n",
       "      <td>745</td>\n",
       "      <td>1</td>\n",
       "      <td>0.0</td>\n",
       "      <td>0.0</td>\n",
       "      <td>741.0</td>\n",
       "      <td>...</td>\n",
       "      <td>1015</td>\n",
       "      <td>0</td>\n",
       "      <td>32</td>\n",
       "      <td>26</td>\n",
       "      <td>41</td>\n",
       "      <td>32</td>\n",
       "      <td>74</td>\n",
       "      <td>1600</td>\n",
       "      <td>2016-01-01</td>\n",
       "      <td>JFK</td>\n",
       "    </tr>\n",
       "    <tr>\n",
       "      <th>1</th>\n",
       "      <td>557</td>\n",
       "      <td>1.0</td>\n",
       "      <td>25.0</td>\n",
       "      <td>1628.0</td>\n",
       "      <td>1603</td>\n",
       "      <td>1330</td>\n",
       "      <td>1</td>\n",
       "      <td>1.0</td>\n",
       "      <td>38.0</td>\n",
       "      <td>1408.0</td>\n",
       "      <td>...</td>\n",
       "      <td>1015</td>\n",
       "      <td>0</td>\n",
       "      <td>32</td>\n",
       "      <td>26</td>\n",
       "      <td>41</td>\n",
       "      <td>32</td>\n",
       "      <td>74</td>\n",
       "      <td>1600</td>\n",
       "      <td>2016-01-01</td>\n",
       "      <td>JFK</td>\n",
       "    </tr>\n",
       "    <tr>\n",
       "      <th>2</th>\n",
       "      <td>282</td>\n",
       "      <td>0.0</td>\n",
       "      <td>0.0</td>\n",
       "      <td>1540.0</td>\n",
       "      <td>1600</td>\n",
       "      <td>1310</td>\n",
       "      <td>1</td>\n",
       "      <td>0.0</td>\n",
       "      <td>0.0</td>\n",
       "      <td>1306.0</td>\n",
       "      <td>...</td>\n",
       "      <td>1015</td>\n",
       "      <td>0</td>\n",
       "      <td>32</td>\n",
       "      <td>26</td>\n",
       "      <td>41</td>\n",
       "      <td>32</td>\n",
       "      <td>74</td>\n",
       "      <td>1600</td>\n",
       "      <td>2016-01-01</td>\n",
       "      <td>JFK</td>\n",
       "    </tr>\n",
       "    <tr>\n",
       "      <th>3</th>\n",
       "      <td>51602</td>\n",
       "      <td>0.0</td>\n",
       "      <td>0.0</td>\n",
       "      <td>1508.0</td>\n",
       "      <td>1530</td>\n",
       "      <td>700</td>\n",
       "      <td>1</td>\n",
       "      <td>0.0</td>\n",
       "      <td>0.0</td>\n",
       "      <td>659.0</td>\n",
       "      <td>...</td>\n",
       "      <td>1015</td>\n",
       "      <td>0</td>\n",
       "      <td>32</td>\n",
       "      <td>26</td>\n",
       "      <td>41</td>\n",
       "      <td>32</td>\n",
       "      <td>74</td>\n",
       "      <td>1600</td>\n",
       "      <td>2016-01-01</td>\n",
       "      <td>JFK</td>\n",
       "    </tr>\n",
       "    <tr>\n",
       "      <th>4</th>\n",
       "      <td>1506</td>\n",
       "      <td>0.0</td>\n",
       "      <td>0.0</td>\n",
       "      <td>1600.0</td>\n",
       "      <td>1624</td>\n",
       "      <td>800</td>\n",
       "      <td>1</td>\n",
       "      <td>0.0</td>\n",
       "      <td>0.0</td>\n",
       "      <td>758.0</td>\n",
       "      <td>...</td>\n",
       "      <td>1015</td>\n",
       "      <td>0</td>\n",
       "      <td>32</td>\n",
       "      <td>26</td>\n",
       "      <td>41</td>\n",
       "      <td>32</td>\n",
       "      <td>74</td>\n",
       "      <td>1600</td>\n",
       "      <td>2016-01-01</td>\n",
       "      <td>JFK</td>\n",
       "    </tr>\n",
       "  </tbody>\n",
       "</table>\n",
       "<p>5 rows × 52 columns</p>\n",
       "</div>"
      ],
      "text/plain": [
       "   Unnamed: 0_x  ArrDel15  ArrDelayMinutes  ArrTime  CRSArrTime  CRSDepTime  \\\n",
       "0             0       0.0              8.0   1610.0        1602         745   \n",
       "1           557       1.0             25.0   1628.0        1603        1330   \n",
       "2           282       0.0              0.0   1540.0        1600        1310   \n",
       "3         51602       0.0              0.0   1508.0        1530         700   \n",
       "4          1506       0.0              0.0   1600.0        1624         800   \n",
       "\n",
       "   DayofMonth  DepDel15  DepDelayMinutes  DepTime  ...  pressure_y  \\\n",
       "0           1       0.0              0.0    741.0  ...        1015   \n",
       "1           1       1.0             38.0   1408.0  ...        1015   \n",
       "2           1       0.0              0.0   1306.0  ...        1015   \n",
       "3           1       0.0              0.0    659.0  ...        1015   \n",
       "4           1       0.0              0.0    758.0  ...        1015   \n",
       "\n",
       "  cloudcover_y  DewPointF_y WindGustKmph_y  tempF_y  WindChillF_y  humidity_y  \\\n",
       "0            0           32             26       41            32          74   \n",
       "1            0           32             26       41            32          74   \n",
       "2            0           32             26       41            32          74   \n",
       "3            0           32             26       41            32          74   \n",
       "4            0           32             26       41            32          74   \n",
       "\n",
       "  time_y      date_y  airport_y  \n",
       "0   1600  2016-01-01        JFK  \n",
       "1   1600  2016-01-01        JFK  \n",
       "2   1600  2016-01-01        JFK  \n",
       "3   1600  2016-01-01        JFK  \n",
       "4   1600  2016-01-01        JFK  \n",
       "\n",
       "[5 rows x 52 columns]"
      ]
     },
     "execution_count": 2,
     "metadata": {},
     "output_type": "execute_result"
    }
   ],
   "source": [
    "df = pd.read_csv(\"Data/Final_data.csv\")\n",
    "df.head()"
   ]
  },
  {
   "cell_type": "code",
   "execution_count": 3,
   "metadata": {},
   "outputs": [
    {
     "data": {
      "text/html": [
       "<div>\n",
       "<style scoped>\n",
       "    .dataframe tbody tr th:only-of-type {\n",
       "        vertical-align: middle;\n",
       "    }\n",
       "\n",
       "    .dataframe tbody tr th {\n",
       "        vertical-align: top;\n",
       "    }\n",
       "\n",
       "    .dataframe thead th {\n",
       "        text-align: right;\n",
       "    }\n",
       "</style>\n",
       "<table border=\"1\" class=\"dataframe\">\n",
       "  <thead>\n",
       "    <tr style=\"text-align: right;\">\n",
       "      <th></th>\n",
       "      <th>ArrDel15</th>\n",
       "      <th>ArrDelayMinutes</th>\n",
       "      <th>CRSArrTime</th>\n",
       "      <th>CRSDepTime</th>\n",
       "      <th>DayofMonth</th>\n",
       "      <th>DepDel15</th>\n",
       "      <th>DepDelayMinutes</th>\n",
       "      <th>DepTime</th>\n",
       "      <th>DestAirportID</th>\n",
       "      <th>Month</th>\n",
       "      <th>...</th>\n",
       "      <th>weatherCode_y</th>\n",
       "      <th>precipMM_y</th>\n",
       "      <th>visibility_y</th>\n",
       "      <th>pressure_y</th>\n",
       "      <th>cloudcover_y</th>\n",
       "      <th>DewPointF_y</th>\n",
       "      <th>WindGustKmph_y</th>\n",
       "      <th>tempF_y</th>\n",
       "      <th>WindChillF_y</th>\n",
       "      <th>humidity_y</th>\n",
       "    </tr>\n",
       "  </thead>\n",
       "  <tbody>\n",
       "    <tr>\n",
       "      <th>0</th>\n",
       "      <td>0.0</td>\n",
       "      <td>8.0</td>\n",
       "      <td>1602</td>\n",
       "      <td>745</td>\n",
       "      <td>1</td>\n",
       "      <td>0.0</td>\n",
       "      <td>0.0</td>\n",
       "      <td>741.0</td>\n",
       "      <td>12478</td>\n",
       "      <td>1</td>\n",
       "      <td>...</td>\n",
       "      <td>113</td>\n",
       "      <td>0.0</td>\n",
       "      <td>10</td>\n",
       "      <td>1015</td>\n",
       "      <td>0</td>\n",
       "      <td>32</td>\n",
       "      <td>26</td>\n",
       "      <td>41</td>\n",
       "      <td>32</td>\n",
       "      <td>74</td>\n",
       "    </tr>\n",
       "    <tr>\n",
       "      <th>1</th>\n",
       "      <td>1.0</td>\n",
       "      <td>25.0</td>\n",
       "      <td>1603</td>\n",
       "      <td>1330</td>\n",
       "      <td>1</td>\n",
       "      <td>1.0</td>\n",
       "      <td>38.0</td>\n",
       "      <td>1408.0</td>\n",
       "      <td>12478</td>\n",
       "      <td>1</td>\n",
       "      <td>...</td>\n",
       "      <td>113</td>\n",
       "      <td>0.0</td>\n",
       "      <td>10</td>\n",
       "      <td>1015</td>\n",
       "      <td>0</td>\n",
       "      <td>32</td>\n",
       "      <td>26</td>\n",
       "      <td>41</td>\n",
       "      <td>32</td>\n",
       "      <td>74</td>\n",
       "    </tr>\n",
       "    <tr>\n",
       "      <th>2</th>\n",
       "      <td>0.0</td>\n",
       "      <td>0.0</td>\n",
       "      <td>1600</td>\n",
       "      <td>1310</td>\n",
       "      <td>1</td>\n",
       "      <td>0.0</td>\n",
       "      <td>0.0</td>\n",
       "      <td>1306.0</td>\n",
       "      <td>12478</td>\n",
       "      <td>1</td>\n",
       "      <td>...</td>\n",
       "      <td>113</td>\n",
       "      <td>0.0</td>\n",
       "      <td>10</td>\n",
       "      <td>1015</td>\n",
       "      <td>0</td>\n",
       "      <td>32</td>\n",
       "      <td>26</td>\n",
       "      <td>41</td>\n",
       "      <td>32</td>\n",
       "      <td>74</td>\n",
       "    </tr>\n",
       "    <tr>\n",
       "      <th>3</th>\n",
       "      <td>0.0</td>\n",
       "      <td>0.0</td>\n",
       "      <td>1530</td>\n",
       "      <td>700</td>\n",
       "      <td>1</td>\n",
       "      <td>0.0</td>\n",
       "      <td>0.0</td>\n",
       "      <td>659.0</td>\n",
       "      <td>12478</td>\n",
       "      <td>1</td>\n",
       "      <td>...</td>\n",
       "      <td>113</td>\n",
       "      <td>0.0</td>\n",
       "      <td>10</td>\n",
       "      <td>1015</td>\n",
       "      <td>0</td>\n",
       "      <td>32</td>\n",
       "      <td>26</td>\n",
       "      <td>41</td>\n",
       "      <td>32</td>\n",
       "      <td>74</td>\n",
       "    </tr>\n",
       "    <tr>\n",
       "      <th>4</th>\n",
       "      <td>0.0</td>\n",
       "      <td>0.0</td>\n",
       "      <td>1624</td>\n",
       "      <td>800</td>\n",
       "      <td>1</td>\n",
       "      <td>0.0</td>\n",
       "      <td>0.0</td>\n",
       "      <td>758.0</td>\n",
       "      <td>12478</td>\n",
       "      <td>1</td>\n",
       "      <td>...</td>\n",
       "      <td>113</td>\n",
       "      <td>0.0</td>\n",
       "      <td>10</td>\n",
       "      <td>1015</td>\n",
       "      <td>0</td>\n",
       "      <td>32</td>\n",
       "      <td>26</td>\n",
       "      <td>41</td>\n",
       "      <td>32</td>\n",
       "      <td>74</td>\n",
       "    </tr>\n",
       "  </tbody>\n",
       "</table>\n",
       "<p>5 rows × 39 columns</p>\n",
       "</div>"
      ],
      "text/plain": [
       "   ArrDel15  ArrDelayMinutes  CRSArrTime  CRSDepTime  DayofMonth  DepDel15  \\\n",
       "0       0.0              8.0        1602         745           1       0.0   \n",
       "1       1.0             25.0        1603        1330           1       1.0   \n",
       "2       0.0              0.0        1600        1310           1       0.0   \n",
       "3       0.0              0.0        1530         700           1       0.0   \n",
       "4       0.0              0.0        1624         800           1       0.0   \n",
       "\n",
       "   DepDelayMinutes  DepTime  DestAirportID  Month  ... weatherCode_y  \\\n",
       "0              0.0    741.0          12478      1  ...           113   \n",
       "1             38.0   1408.0          12478      1  ...           113   \n",
       "2              0.0   1306.0          12478      1  ...           113   \n",
       "3              0.0    659.0          12478      1  ...           113   \n",
       "4              0.0    758.0          12478      1  ...           113   \n",
       "\n",
       "   precipMM_y  visibility_y  pressure_y cloudcover_y  DewPointF_y  \\\n",
       "0         0.0            10        1015            0           32   \n",
       "1         0.0            10        1015            0           32   \n",
       "2         0.0            10        1015            0           32   \n",
       "3         0.0            10        1015            0           32   \n",
       "4         0.0            10        1015            0           32   \n",
       "\n",
       "   WindGustKmph_y  tempF_y  WindChillF_y  humidity_y  \n",
       "0              26       41            32          74  \n",
       "1              26       41            32          74  \n",
       "2              26       41            32          74  \n",
       "3              26       41            32          74  \n",
       "4              26       41            32          74  \n",
       "\n",
       "[5 rows x 39 columns]"
      ]
     },
     "execution_count": 3,
     "metadata": {},
     "output_type": "execute_result"
    }
   ],
   "source": [
    "df = df.drop(columns=['Unnamed: 0_x', 'time_x', 'date_x','time_y', 'date_y', 'FlightDate', 'Unnamed: 0_y', 'airport_y', \n",
    "                      'airport_x', 'ArrTime', 'Time_new_dept', 'Time_new_arr','Unnamed: 0'])\n",
    "df.head()"
   ]
  },
  {
   "cell_type": "code",
   "execution_count": 4,
   "metadata": {},
   "outputs": [
    {
     "data": {
      "text/plain": [
       "Index(['ArrDel15', 'ArrDelayMinutes', 'CRSArrTime', 'CRSDepTime', 'DayofMonth',\n",
       "       'DepDel15', 'DepDelayMinutes', 'DepTime', 'DestAirportID', 'Month',\n",
       "       'Origin', 'OriginAirportID', 'Quarter', 'Year', 'Dest',\n",
       "       'windspeedKmph_x', 'winddirDegree_x', 'weatherCode_x', 'precipMM_x',\n",
       "       'visibility_x', 'pressure_x', 'cloudcover_x', 'DewPointF_x',\n",
       "       'WindGustKmph_x', 'tempF_x', 'WindChillF_x', 'humidity_x',\n",
       "       'windspeedKmph_y', 'winddirDegree_y', 'weatherCode_y', 'precipMM_y',\n",
       "       'visibility_y', 'pressure_y', 'cloudcover_y', 'DewPointF_y',\n",
       "       'WindGustKmph_y', 'tempF_y', 'WindChillF_y', 'humidity_y'],\n",
       "      dtype='object')"
      ]
     },
     "execution_count": 4,
     "metadata": {},
     "output_type": "execute_result"
    }
   ],
   "source": [
    "df.columns"
   ]
  },
  {
   "cell_type": "code",
   "execution_count": 5,
   "metadata": {},
   "outputs": [],
   "source": [
    "from sklearn import preprocessing\n",
    "label = preprocessing.LabelEncoder()\n",
    "df['Origin'] = label.fit_transform(df['Origin'])\n",
    "df['Dest'] = label.fit_transform(df['Dest'])"
   ]
  },
  {
   "cell_type": "code",
   "execution_count": 6,
   "metadata": {},
   "outputs": [],
   "source": [
    "y = df[['ArrDel15', 'ArrDelayMinutes']]\n",
    "X = df.drop(columns = ['ArrDel15', 'ArrDelayMinutes'])"
   ]
  },
  {
   "cell_type": "code",
   "execution_count": 7,
   "metadata": {},
   "outputs": [],
   "source": [
    "from sklearn.model_selection import train_test_split  \n",
    "X_train, X_test, y_train, y_test = train_test_split(X, y, train_size = 0.70, random_state = 50)"
   ]
  },
  {
   "cell_type": "code",
   "execution_count": 8,
   "metadata": {},
   "outputs": [
    {
     "data": {
      "text/plain": [
       "(1295527, 37)"
      ]
     },
     "execution_count": 8,
     "metadata": {},
     "output_type": "execute_result"
    }
   ],
   "source": [
    "X_train.shape"
   ]
  },
  {
   "cell_type": "code",
   "execution_count": 9,
   "metadata": {},
   "outputs": [
    {
     "data": {
      "text/plain": [
       "Counter({1.0: 271516, 0.0: 1024011})"
      ]
     },
     "execution_count": 9,
     "metadata": {},
     "output_type": "execute_result"
    }
   ],
   "source": [
    "from collections import Counter\n",
    "Counter(y_train['ArrDel15'])"
   ]
  },
  {
   "cell_type": "code",
   "execution_count": 10,
   "metadata": {},
   "outputs": [],
   "source": [
    "y_train_classification, y_test_classification = y_train[\"ArrDel15\"], y_test[\"ArrDel15\"]\n",
    "y_test_regression = y_test[\"ArrDelayMinutes\"]"
   ]
  },
  {
   "cell_type": "code",
   "execution_count": 11,
   "metadata": {},
   "outputs": [],
   "source": [
    "import xgboost\n",
    "from xgboost import XGBClassifier\n",
    "xgboost_model = XGBClassifier()\n",
    "xbgoost_classifier = xgboost_model.fit(X_train, y_train_classification)"
   ]
  },
  {
   "cell_type": "code",
   "execution_count": 12,
   "metadata": {},
   "outputs": [],
   "source": [
    "y_pred_xgboost = xgboost_model.predict(X_test)"
   ]
  },
  {
   "cell_type": "code",
   "execution_count": 13,
   "metadata": {},
   "outputs": [
    {
     "name": "stdout",
     "output_type": "stream",
     "text": [
      "              precision    recall  f1-score   support\n",
      "\n",
      "         0.0       0.92      0.98      0.95    438809\n",
      "         1.0       0.90      0.70      0.79    116418\n",
      "\n",
      "    accuracy                           0.92    555227\n",
      "   macro avg       0.91      0.84      0.87    555227\n",
      "weighted avg       0.92      0.92      0.92    555227\n",
      "\n"
     ]
    }
   ],
   "source": [
    "print(classification_report(y_test_classification, y_pred_xgboost))"
   ]
  },
  {
   "cell_type": "code",
   "execution_count": 14,
   "metadata": {
    "scrolled": false
   },
   "outputs": [
    {
     "data": {
      "text/plain": [
       "(90636, 37)"
      ]
     },
     "execution_count": 14,
     "metadata": {},
     "output_type": "execute_result"
    }
   ],
   "source": [
    "X_test[\"Predicted_ArrDel15\"] = y_pred_xgboost\n",
    "X_test = X_test.loc[:][X_test[\"Predicted_ArrDel15\"]==1]\n",
    "X_test = X_test.drop([\"Predicted_ArrDel15\"],axis=1)\n",
    "X_test.shape"
   ]
  },
  {
   "cell_type": "code",
   "execution_count": 15,
   "metadata": {},
   "outputs": [],
   "source": [
    "y_test_regression_new= pd.DataFrame(y_test_regression)\n",
    "y_test_regression_new[\"Predicted_ArrDel15\"] = y_pred_xgboost\n",
    "y_test_regression_new = y_test_regression_new.loc[y_test_regression_new[\"Predicted_ArrDel15\"] == 1]\n",
    "y_test_regression_new = y_test_regression_new.drop([\"Predicted_ArrDel15\"], axis = 1)"
   ]
  },
  {
   "cell_type": "code",
   "execution_count": 16,
   "metadata": {},
   "outputs": [],
   "source": [
    "y_test_regression_new = pd.Series(y_test_regression_new[\"ArrDelayMinutes\"])"
   ]
  },
  {
   "cell_type": "code",
   "execution_count": 17,
   "metadata": {},
   "outputs": [
    {
     "data": {
      "text/plain": [
       "((90636, 37), (90636,))"
      ]
     },
     "execution_count": 17,
     "metadata": {},
     "output_type": "execute_result"
    }
   ],
   "source": [
    "X_test.shape, y_test_regression_new.shape"
   ]
  },
  {
   "cell_type": "code",
   "execution_count": 18,
   "metadata": {
    "scrolled": false
   },
   "outputs": [],
   "source": [
    "X_train[\"ArrDel15\"] = y_train[\"ArrDel15\"]\n",
    "X_train = X_train.loc[X_train[\"ArrDel15\"]==1]\n",
    "X_train = X_train.drop(\"ArrDel15\", axis = 1)\n",
    "y_train_regression = y_train.loc[y_train[\"ArrDel15\"] == 1]\n",
    "y_train_regression = y_train_regression.drop(\"ArrDel15\", axis = 1)"
   ]
  },
  {
   "cell_type": "code",
   "execution_count": 19,
   "metadata": {},
   "outputs": [
    {
     "data": {
      "text/plain": [
       "((271516, 37), (271516, 1), (90636, 37), (90636,))"
      ]
     },
     "execution_count": 19,
     "metadata": {},
     "output_type": "execute_result"
    }
   ],
   "source": [
    "X_train.shape, y_train_regression.shape, X_test.shape, y_test_regression_new.shape"
   ]
  },
  {
   "cell_type": "code",
   "execution_count": 20,
   "metadata": {},
   "outputs": [],
   "source": [
    "from xgboost import XGBRegressor\n",
    "xgboost_regressor = XGBRegressor()\n",
    "xgboost_regressor.fit(X_train,y_train_regression)\n",
    "y_pred_xgboost_regression = xgboost_regressor.predict(X_test)"
   ]
  },
  {
   "cell_type": "code",
   "execution_count": 21,
   "metadata": {},
   "outputs": [
    {
     "name": "stdout",
     "output_type": "stream",
     "text": [
      "12.861288330130819\n",
      "308.2526406549859\n",
      "17.557125068045334\n",
      "0.9511603905459871\n"
     ]
    }
   ],
   "source": [
    "from sklearn import metrics\n",
    "import numpy as np\n",
    "mean_absolute_error=metrics.mean_absolute_error(y_test_regression_new, y_pred_xgboost_regression) \n",
    "MSE=metrics.mean_squared_error(y_test_regression_new, y_pred_xgboost_regression) \n",
    "RMSE= np.sqrt(MSE)\n",
    "R2=metrics.r2_score(y_test_regression_new, y_pred_xgboost_regression)\n",
    "print(mean_absolute_error)\n",
    "print(MSE)\n",
    "print(RMSE)\n",
    "print(R2)"
   ]
  },
  {
   "cell_type": "code",
   "execution_count": 49,
   "metadata": {},
   "outputs": [
    {
     "data": {
      "text/plain": [
       "1649.0"
      ]
     },
     "execution_count": 49,
     "metadata": {},
     "output_type": "execute_result"
    }
   ],
   "source": [
    "X_test[\"ArrDelayMinutes\"] = y_test_regression_new\n",
    "X_test['ArrDelayMinutes'].max()"
   ]
  },
  {
   "cell_type": "markdown",
   "metadata": {},
   "source": [
    "### Class 15 to  100"
   ]
  },
  {
   "cell_type": "code",
   "execution_count": 23,
   "metadata": {},
   "outputs": [
    {
     "name": "stdout",
     "output_type": "stream",
     "text": [
      "10.380981653334002\n",
      "183.563731265749\n",
      "13.548569343873508\n",
      "0.6386016194874876\n"
     ]
    }
   ],
   "source": [
    "X_test[\"ArrDelayMinutes\"] = y_test_regression_new\n",
    "df_temp1 = X_test.loc[X_test['ArrDelayMinutes'].isin(list(range(15,100)))]\n",
    "\n",
    "X_test1 = df_temp1.drop(columns = ['ArrDelayMinutes'])\n",
    "y_test1 = df_temp1['ArrDelayMinutes']\n",
    "\n",
    "y_pred_xgboost1 = xgboost_regressor.predict(X_test1)\n",
    "\n",
    "mean_absolute_error=metrics.mean_absolute_error(y_test1, y_pred_xgboost1) \n",
    "MSE=metrics.mean_squared_error(y_test1, y_pred_xgboost1) \n",
    "RMSE= np.sqrt(MSE)\n",
    "R2=metrics.r2_score(y_test1, y_pred_xgboost1)\n",
    "print(mean_absolute_error)\n",
    "print(MSE)\n",
    "print(RMSE)\n",
    "print(R2)"
   ]
  },
  {
   "cell_type": "markdown",
   "metadata": {},
   "source": [
    "### Class 100 to  200"
   ]
  },
  {
   "cell_type": "code",
   "execution_count": 24,
   "metadata": {},
   "outputs": [
    {
     "name": "stdout",
     "output_type": "stream",
     "text": [
      "15.795037762429804\n",
      "537.7764154793003\n",
      "23.190006802053773\n",
      "0.26985265138536174\n"
     ]
    }
   ],
   "source": [
    "df_temp2 = X_test.loc[X_test['ArrDelayMinutes'].isin(list(range(100,200)))]\n",
    "\n",
    "X_test2 = df_temp2.drop(columns = ['ArrDelayMinutes'])\n",
    "y_test2 = df_temp2['ArrDelayMinutes']\n",
    "\n",
    "y_pred_xgboost2 = xgboost_regressor.predict(X_test2)\n",
    "\n",
    "mean_absolute_error=metrics.mean_absolute_error(y_test2, y_pred_xgboost2) \n",
    "MSE=metrics.mean_squared_error(y_test2, y_pred_xgboost2) \n",
    "RMSE= np.sqrt(MSE)\n",
    "R2=metrics.r2_score(y_test2, y_pred_xgboost2)\n",
    "print(mean_absolute_error)\n",
    "print(MSE)\n",
    "print(RMSE)\n",
    "print(R2)"
   ]
  },
  {
   "cell_type": "markdown",
   "metadata": {},
   "source": [
    "### Class 200 to  500"
   ]
  },
  {
   "cell_type": "code",
   "execution_count": 25,
   "metadata": {},
   "outputs": [
    {
     "name": "stdout",
     "output_type": "stream",
     "text": [
      "17.77827537675076\n",
      "775.9730760456407\n",
      "27.856293293359055\n",
      "0.8227200853290012\n"
     ]
    }
   ],
   "source": [
    "df_temp3 = X_test.loc[X_test['ArrDelayMinutes'].isin(list(range(200,500)))]\n",
    "\n",
    "X_test3 = df_temp3.drop(columns = ['ArrDelayMinutes'])\n",
    "y_test3 = df_temp3['ArrDelayMinutes']\n",
    "\n",
    "y_pred_xgboost3 = xgboost_regressor.predict(X_test3)\n",
    "\n",
    "mean_absolute_error=metrics.mean_absolute_error(y_test3, y_pred_xgboost3) \n",
    "MSE=metrics.mean_squared_error(y_test3, y_pred_xgboost3) \n",
    "RMSE= np.sqrt(MSE)\n",
    "R2=metrics.r2_score(y_test3, y_pred_xgboost3)\n",
    "print(mean_absolute_error)\n",
    "print(MSE)\n",
    "print(RMSE)\n",
    "print(R2)"
   ]
  },
  {
   "cell_type": "markdown",
   "metadata": {},
   "source": [
    "### Class 500 to 1000"
   ]
  },
  {
   "cell_type": "code",
   "execution_count": 26,
   "metadata": {},
   "outputs": [
    {
     "name": "stdout",
     "output_type": "stream",
     "text": [
      "16.448859709381715\n",
      "559.9477780436654\n",
      "23.663215716458854\n",
      "0.9704709722532535\n"
     ]
    }
   ],
   "source": [
    "df_temp4 = X_test.loc[X_test['ArrDelayMinutes'].isin(list(range(500,1000)))]\n",
    "\n",
    "X_test4 = df_temp4.drop(columns = ['ArrDelayMinutes'])\n",
    "y_test4 = df_temp4['ArrDelayMinutes']\n",
    "\n",
    "y_pred_xgboost4 = xgboost_regressor.predict(X_test4)\n",
    "\n",
    "mean_absolute_error=metrics.mean_absolute_error(y_test4, y_pred_xgboost4) \n",
    "MSE=metrics.mean_squared_error(y_test4, y_pred_xgboost4) \n",
    "RMSE= np.sqrt(MSE)\n",
    "R2=metrics.r2_score(y_test4, y_pred_xgboost4)\n",
    "print(mean_absolute_error)\n",
    "print(MSE)\n",
    "print(RMSE)\n",
    "print(R2)"
   ]
  },
  {
   "cell_type": "markdown",
   "metadata": {},
   "source": [
    "### Class 1000 to 1650"
   ]
  },
  {
   "cell_type": "code",
   "execution_count": 50,
   "metadata": {},
   "outputs": [
    {
     "name": "stdout",
     "output_type": "stream",
     "text": [
      "22.85957768278302\n",
      "1060.9127986414253\n",
      "32.571656369325545\n",
      "0.9403339498065914\n"
     ]
    }
   ],
   "source": [
    "df_temp5 = X_test.loc[X_test['ArrDelayMinutes'].isin(list(range(1000,1650)))]\n",
    "\n",
    "X_test5 = df_temp5.drop(columns = ['ArrDelayMinutes'])\n",
    "y_test5 = df_temp5['ArrDelayMinutes']\n",
    "\n",
    "y_pred_xgboost5 = xgboost_regressor.predict(X_test5)\n",
    "\n",
    "mean_absolute_error=metrics.mean_absolute_error(y_test5, y_pred_xgboost5) \n",
    "MSE=metrics.mean_squared_error(y_test5, y_pred_xgboost5) \n",
    "RMSE= np.sqrt(MSE)\n",
    "R2=metrics.r2_score(y_test5, y_pred_xgboost5)\n",
    "print(mean_absolute_error)\n",
    "print(MSE)\n",
    "print(RMSE)\n",
    "print(R2)"
   ]
  }
 ],
 "metadata": {
  "kernelspec": {
   "display_name": "Python 3",
   "language": "python",
   "name": "python3"
  },
  "language_info": {
   "codemirror_mode": {
    "name": "ipython",
    "version": 3
   },
   "file_extension": ".py",
   "mimetype": "text/x-python",
   "name": "python",
   "nbconvert_exporter": "python",
   "pygments_lexer": "ipython3",
   "version": "3.8.3"
  }
 },
 "nbformat": 4,
 "nbformat_minor": 4
}
